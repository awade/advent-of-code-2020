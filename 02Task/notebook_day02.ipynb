{
 "cells": [
  {
   "cell_type": "markdown",
   "metadata": {},
   "source": [
    "# adventofcode\n",
    "\n",
    "## Day 02\n",
    "\n",
    "\n",
    "--------\n",
    "| Author | Andrew Wade |\n",
    "| :---- | ------|\n",
    "| Date | 15 Oct 2021 | \n",
    "| Contact | awade (at) andrew.wade@anu.edu.au|\n",
    "| Ref | [Day 02](https://adventofcode.com/2020/day/2) |"
   ]
  },
  {
   "cell_type": "markdown",
   "metadata": {},
   "source": [
    "--- Day 2: Password Philosophy ---\n",
    "\n",
    "Your flight departs in a few days from the coastal airport; the easiest way down to the coast from here is via toboggan.\n",
    "\n",
    "The shopkeeper at the North Pole Toboggan Rental Shop is having a bad day. \"Something's wrong with our computers; we can't log in!\" You ask if you can take a look.\n",
    "\n",
    "Their password database seems to be a little corrupted: some of the passwords wouldn't have been allowed by the Official Toboggan Corporate Policy that was in effect when they were chosen.\n",
    "\n",
    "To try to debug the problem, they have created a list (your puzzle input) of passwords (according to the corrupted database) and the corporate policy when that password was set.\n",
    "\n",
    "For example, suppose you have the following list:\n",
    "\n",
    "1-3 a: abcde\n",
    "1-3 b: cdefg\n",
    "2-9 c: ccccccccc\n",
    "Each line gives the password policy and then the password. The password policy indicates the lowest and highest number of times a given letter must appear for the password to be valid. For example, 1-3 a means that the password must contain a at least 1 time and at most 3 times.\n",
    "\n",
    "In the above example, 2 passwords are valid. The middle password, cdefg, is not; it contains no instances of b, but needs at least 1. The first and third passwords are valid: they contain one a or nine c, both within the limits of their respective policies.\n",
    "\n",
    "How many passwords are valid according to their policies?\n",
    "\n",
    "Your puzzle answer was xxx.\n",
    "\n",
    "--- Part Two ---\n",
    "\n",
    "While it appears you validated the passwords correctly, they don't seem to be what the Official Toboggan Corporate Authentication System is expecting.\n",
    "\n",
    "The shopkeeper suddenly realizes that he just accidentally explained the password policy rules from his old job at the sled rental place down the street! The Official Toboggan Corporate Policy actually works a little differently.\n",
    "\n",
    "Each policy actually describes two positions in the password, where 1 means the first character, 2 means the second character, and so on. (Be careful; Toboggan Corporate Policies have no concept of \"index zero\"!) Exactly one of these positions must contain the given letter. Other occurrences of the letter are irrelevant for the purposes of policy enforcement.\n",
    "\n",
    "Given the same example list from above:\n",
    "\n",
    "1-3 a: abcde is valid: position 1 contains a and position 3 does not.\n",
    "1-3 b: cdefg is invalid: neither position 1 nor position 3 contains b.\n",
    "2-9 c: ccccccccc is invalid: both position 2 and position 9 contain c.\n",
    "How many passwords are valid according to the new interpretation of the policies?\n",
    "\n",
    "Your puzzle answer was yyy."
   ]
  },
  {
   "cell_type": "code",
   "execution_count": 112,
   "metadata": {},
   "outputs": [],
   "source": [
    "#Arrays, Plotting, system\n",
    "import numpy as np"
   ]
  },
  {
   "cell_type": "markdown",
   "metadata": {},
   "source": [
    "## Import and structure data as dict"
   ]
  },
  {
   "cell_type": "code",
   "execution_count": 113,
   "metadata": {},
   "outputs": [],
   "source": [
    "fileName = 'puzzleInput.txt'\n",
    "\n",
    "# Import the data into fields\n",
    "puzzleInput = {}\n",
    "with open(fileName) as f:\n",
    "    for line in f:\n",
    "        puzzleInput[len(puzzleInput)+1] = line.split()\n",
    "#         print(line.split())\n",
    "\n",
    "# Make a pw database in neat and tidy dict\n",
    "db = {} #dict.fromkeys(puzzleInput.keys())\n",
    "for ii, val in puzzleInput.items():\n",
    "    db[ii] = {}  # Initise dict for entry\n",
    "    db[ii]['minInst'] = int(val[0].split('-')[0]) # min instances\n",
    "    db[ii]['maxInst'] = int(val[0].split('-')[1]) # max instances\n",
    "    db[ii]['symbol'] = val[1][0] # Clean up the policy letter, removing colen\n",
    "    db[ii]['pass'] = val[2]  # The stored password"
   ]
  },
  {
   "cell_type": "markdown",
   "metadata": {},
   "source": [
    "## Part 1 (min, max number of entries)"
   ]
  },
  {
   "cell_type": "code",
   "execution_count": 115,
   "metadata": {},
   "outputs": [
    {
     "name": "stdout",
     "output_type": "stream",
     "text": [
      "Number of valid entries pt1 criteria = 655.\n"
     ]
    }
   ],
   "source": [
    "indxOfValidEntries = []\n",
    "for ii, val in db.items():\n",
    "    nSym = val['pass'].count(val['symbol']) # num symbols in pass\n",
    "    \n",
    "    # Test against pt1 criteria\n",
    "    if (nSym>=val['minInst']) and (nSym<=val['maxInst']):\n",
    "        indxOfValidEntries.append(ii)\n",
    "\n",
    "print('Number of valid entries pt1 criteria = {}.'.format(len(indxOfValidEntries)))"
   ]
  },
  {
   "cell_type": "markdown",
   "metadata": {},
   "source": [
    "## Part 2: Exactly one entry the key symbol"
   ]
  },
  {
   "cell_type": "code",
   "execution_count": 116,
   "metadata": {},
   "outputs": [
    {
     "name": "stdout",
     "output_type": "stream",
     "text": [
      "Numer of valid entries pt1 criteria = 673.\n"
     ]
    }
   ],
   "source": [
    "indxOfValidEntries_part2 = []\n",
    "for ii, val in db.items():    \n",
    "    # Test against pt2 criteria\n",
    "    if (val['pass'][val['minInst']-1]==val['symbol']) ^ (val['pass'][val['maxInst']-1]==val['symbol']):\n",
    "        indxOfValidEntries_part2.append(ii)\n",
    "\n",
    "print('Numer of valid entries pt1 criteria = {}.'.format(len(indxOfValidEntries_part2)))"
   ]
  }
 ],
 "metadata": {
  "kernelspec": {
   "display_name": "Python 3",
   "language": "python",
   "name": "python3"
  },
  "language_info": {
   "codemirror_mode": {
    "name": "ipython",
    "version": 3
   },
   "file_extension": ".py",
   "mimetype": "text/x-python",
   "name": "python",
   "nbconvert_exporter": "python",
   "pygments_lexer": "ipython3",
   "version": "3.7.9"
  }
 },
 "nbformat": 4,
 "nbformat_minor": 4
}
