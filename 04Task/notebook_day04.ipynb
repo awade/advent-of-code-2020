{
 "cells": [
  {
   "cell_type": "markdown",
   "metadata": {},
   "source": [
    "# adventofcode\n",
    "\n",
    "## Day 04\n",
    "\n",
    "\n",
    "--------\n",
    "| Author | Andrew Wade |\n",
    "| :---- | ------|\n",
    "| Date | 16 Oct 2021 | \n",
    "| Contact | awade (at) andrew.wade@anu.edu.au|\n",
    "| Ref | [Day 04](https://adventofcode.com/2020/day/4) |"
   ]
  },
  {
   "cell_type": "markdown",
   "metadata": {},
   "source": [
    "--- Day 4: Passport Processing ---\n",
    "\n",
    "You arrive at the airport only to realize that you grabbed your North Pole Credentials instead of your passport. While these documents are extremely similar, North Pole Credentials aren't issued by a country and therefore aren't actually valid documentation for travel in most of the world.\n",
    "\n",
    "It seems like you're not the only one having problems, though; a very long line has formed for the automatic passport scanners, and the delay could upset your travel itinerary.\n",
    "\n",
    "Due to some questionable network security, you realize you might be able to solve both of these problems at the same time.\n",
    "\n",
    "The automatic passport scanners are slow because they're having trouble detecting which passports have all required fields. The expected fields are as follows:\n",
    "\n",
    "byr (Birth Year)\n",
    "iyr (Issue Year)\n",
    "eyr (Expiration Year)\n",
    "hgt (Height)\n",
    "hcl (Hair Color)\n",
    "ecl (Eye Color)\n",
    "pid (Passport ID)\n",
    "cid (Country ID)\n",
    "Passport data is validated in batch files (your puzzle input). Each passport is represented as a sequence of key:value pairs separated by spaces or newlines. Passports are separated by blank lines.\n",
    "\n",
    "Here is an example batch file containing four passports:\n",
    "\n",
    "ecl:gry pid:860033327 eyr:2020 hcl:#fffffd\n",
    "byr:1937 iyr:2017 cid:147 hgt:183cm\n",
    "\n",
    "iyr:2013 ecl:amb cid:350 eyr:2023 pid:028048884\n",
    "hcl:#cfa07d byr:1929\n",
    "\n",
    "hcl:#ae17e1 iyr:2013\n",
    "eyr:2024\n",
    "ecl:brn pid:760753108 byr:1931\n",
    "hgt:179cm\n",
    "\n",
    "hcl:#cfa07d eyr:2025 pid:166559648\n",
    "iyr:2011 ecl:brn hgt:59in\n",
    "The first passport is valid - all eight fields are present. The second passport is invalid - it is missing hgt (the Height field).\n",
    "\n",
    "The third passport is interesting; the only missing field is cid, so it looks like data from North Pole Credentials, not a passport at all! Surely, nobody would mind if you made the system temporarily ignore missing cid fields. Treat this \"passport\" as valid.\n",
    "\n",
    "The fourth passport is missing two fields, cid and byr. Missing cid is fine, but missing any other field is not, so this passport is invalid.\n",
    "\n",
    "According to the above rules, your improved system would report 2 valid passports.\n",
    "\n",
    "Count the number of valid passports - those that have all required fields. Treat cid as optional. In your batch file, how many passports are valid?\n",
    "\n",
    "Your puzzle answer was 247.\n",
    "\n",
    "--- Part Two ---\n",
    "\n",
    "The line is moving more quickly now, but you overhear airport security talking about how passports with invalid data are getting through. Better add some data validation, quick!\n",
    "\n",
    "You can continue to ignore the cid field, but each other field has strict rules about what values are valid for automatic validation:\n",
    "\n",
    "byr (Birth Year) - four digits; at least 1920 and at most 2002.\n",
    "iyr (Issue Year) - four digits; at least 2010 and at most 2020.\n",
    "eyr (Expiration Year) - four digits; at least 2020 and at most 2030.\n",
    "hgt (Height) - a number followed by either cm or in:\n",
    "If cm, the number must be at least 150 and at most 193.\n",
    "If in, the number must be at least 59 and at most 76.\n",
    "hcl (Hair Color) - a # followed by exactly six characters 0-9 or a-f.\n",
    "ecl (Eye Color) - exactly one of: amb blu brn gry grn hzl oth.\n",
    "pid (Passport ID) - a nine-digit number, including leading zeroes.\n",
    "cid (Country ID) - ignored, missing or not.\n",
    "Your job is to count the passports where all required fields are both present and valid according to the above rules. Here are some example values:\n",
    "\n",
    "byr valid:   2002\n",
    "byr invalid: 2003\n",
    "\n",
    "hgt valid:   60in\n",
    "hgt valid:   190cm\n",
    "hgt invalid: 190in\n",
    "hgt invalid: 190\n",
    "\n",
    "hcl valid:   #123abc\n",
    "hcl invalid: #123abz\n",
    "hcl invalid: 123abc\n",
    "\n",
    "ecl valid:   brn\n",
    "ecl invalid: wat\n",
    "\n",
    "pid valid:   000000001\n",
    "pid invalid: 0123456789\n",
    "Here are some invalid passports:\n",
    "\n",
    "eyr:1972 cid:100\n",
    "hcl:#18171d ecl:amb hgt:170 pid:186cm iyr:2018 byr:1926\n",
    "\n",
    "iyr:2019\n",
    "hcl:#602927 eyr:1967 hgt:170cm\n",
    "ecl:grn pid:012533040 byr:1946\n",
    "\n",
    "hcl:dab227 iyr:2012\n",
    "ecl:brn hgt:182cm pid:021572410 eyr:2020 byr:1992 cid:277\n",
    "\n",
    "hgt:59cm ecl:zzz\n",
    "eyr:2038 hcl:74454a iyr:2023\n",
    "pid:3556412378 byr:2007\n",
    "Here are some valid passports:\n",
    "\n",
    "pid:087499704 hgt:74in ecl:grn iyr:2012 eyr:2030 byr:1980\n",
    "hcl:#623a2f\n",
    "\n",
    "eyr:2029 ecl:blu cid:129 byr:1989\n",
    "iyr:2014 pid:896056539 hcl:#a97842 hgt:165cm\n",
    "\n",
    "hcl:#888785\n",
    "hgt:164cm byr:2001 iyr:2015 cid:88\n",
    "pid:545766238 ecl:hzl\n",
    "eyr:2022\n",
    "\n",
    "iyr:2010 hgt:158cm hcl:#b6652a ecl:blu byr:1944 eyr:2021 pid:093154719\n",
    "Count the number of valid passports - those that have all required fields and valid values. Continue to treat cid as optional. In your batch file, how many passports are valid?"
   ]
  },
  {
   "cell_type": "code",
   "execution_count": 1,
   "metadata": {},
   "outputs": [],
   "source": [
    "fileName = 'puzzleInput.txt'\n",
    "\n",
    "# Import the data into fields\n",
    "puzzleInput = np.empty((0,1), str)\n",
    "ii = 0\n",
    "db = {}\n",
    "db[ii] = {}\n",
    "with open(fileName) as f:\n",
    "    for line in f:\n",
    "        buff = line.split()\n",
    "        if not line.split():\n",
    "            # when new empty line initialises the next entry\n",
    "            ii = ii + 1  # Incriment counter\n",
    "            db[ii] = {}  # Make new dict entry\n",
    "            \n",
    "        for kk in range(len(buff)):\n",
    "            key, val = buff[kk].split(':')\n",
    "            db[ii][key] = val"
   ]
  },
  {
   "cell_type": "markdown",
   "metadata": {},
   "source": [
    "First count the number of valid passports"
   ]
  },
  {
   "cell_type": "code",
   "execution_count": 2,
   "metadata": {},
   "outputs": [
    {
     "name": "stdout",
     "output_type": "stream",
     "text": [
      "Number of valid entries = 120.\n"
     ]
    }
   ],
   "source": [
    "ValidKeyList = ['byr', 'iyr', 'eyr', 'hgt', 'hcl', 'ecl', 'pid', 'cid']\n",
    "\n",
    "counter = 0\n",
    "for ii, dbVal in enumerate(db):\n",
    "    if all([(val in db[ii]) for val in ValidKeyList]):\n",
    "        counter = counter + 1\n",
    "        \n",
    "print('Number of valid entries = {}.'.format(counter))"
   ]
  },
  {
   "cell_type": "markdown",
   "metadata": {},
   "source": [
    "Now repeat with reduced requirment on country ID"
   ]
  },
  {
   "cell_type": "code",
   "execution_count": 3,
   "metadata": {},
   "outputs": [
    {
     "name": "stdout",
     "output_type": "stream",
     "text": [
      "Number of valid entries = 247.\n"
     ]
    }
   ],
   "source": [
    "ValidKeyList = ['byr', 'iyr', 'eyr', 'hgt', 'hcl', 'ecl', 'pid']\n",
    "\n",
    "counter = 0\n",
    "for ii, dbVal in enumerate(db):\n",
    "    if all([(val in db[ii]) for val in ValidKeyList]):\n",
    "        counter = counter + 1\n",
    "        \n",
    "print('Number of valid entries = {}.'.format(counter))"
   ]
  },
  {
   "cell_type": "markdown",
   "metadata": {},
   "source": [
    "## Part 2: Counting passports that meeting data valid ranges\n",
    "Ignoring country id 'cid'"
   ]
  },
  {
   "cell_type": "code",
   "execution_count": 4,
   "metadata": {},
   "outputs": [
    {
     "name": "stdout",
     "output_type": "stream",
     "text": [
      "Number of valid entries = 247.\n"
     ]
    }
   ],
   "source": [
    "ValidKeyList = ['byr', 'iyr', 'eyr', 'hgt', 'hcl', 'ecl', 'pid']\n",
    "\n",
    "indexValidEntries = []\n",
    "\n",
    "counter = 0\n",
    "for ii, dbVal in enumerate(db):\n",
    "    if all([(val in db[ii]) for val in ValidKeyList]):\n",
    "        counter = counter + 1\n",
    "        indexValidEntries.append(ii)\n",
    "        \n",
    "print('Number of valid entries = {}.'.format(counter))\n",
    "\n",
    "# Generate a database that is a subset that is valid\n",
    "dbValid = {key:db[key] for key in indexValidEntries}"
   ]
  },
  {
   "cell_type": "markdown",
   "metadata": {},
   "source": [
    "Now veto entries with invalid values"
   ]
  },
  {
   "cell_type": "code",
   "execution_count": 5,
   "metadata": {},
   "outputs": [
    {
     "name": "stdout",
     "output_type": "stream",
     "text": [
      "List of invalid database entries to remove [0, 1, 3, 5, 8, 10, 11, 15, 16, 17, 24, 25, 26, 28, 34, 40, 41, 43, 49, 50, 55, 57, 67, 70, 76, 77, 82, 83, 88, 95, 96, 98, 103, 104, 105, 109, 112, 113, 116, 118, 120, 121, 123, 124, 128, 130, 131, 135, 136, 144, 145, 157, 168, 169, 170, 179, 180, 181, 185, 187, 188, 189, 193, 194, 198, 201, 204, 210, 211, 213, 219, 220, 222, 223, 224, 229, 230, 231, 236, 237, 239, 246, 248, 249, 254, 256, 257, 260, 263, 267, 271, 273, 278, 279, 280, 282, 286, 287, 292, 295, 296, 297]\n",
      "Number of valid passports are removing invalid entries = 145.\n"
     ]
    }
   ],
   "source": [
    "listInvalid = []\n",
    "for key, dbVal in dbValid.items():\n",
    "    if not((int(dbVal['byr'])>=1920) and (int(dbVal['byr'])<=2002)):\n",
    "#         print(key)\n",
    "        listInvalid.append(key)\n",
    "\n",
    "for key, dbVal in dbValid.items():\n",
    "    if not((int(dbVal['iyr'])>=2010) and (int(dbVal['iyr'])<=2020)):\n",
    "#         print(key)\n",
    "        listInvalid.append(key)\n",
    "        \n",
    "for key, dbVal in dbValid.items():\n",
    "    if not((int(dbVal['eyr'])>=2020) and (int(dbVal['eyr'])<=2030)):\n",
    "#         print(key)\n",
    "        listInvalid.append(key)\n",
    "\n",
    "for key, dbVal in dbValid.items():\n",
    "    if dbVal['hgt'][-2:]==\"cm\":\n",
    "        if not((int(dbVal['hgt'][0:-2])>=150) and (int(dbVal['hgt'][0:-2])<=193)):\n",
    "#             print(key)\n",
    "            listInvalid.append(key)\n",
    "    elif dbVal['hgt'][-2:]==\"in\":\n",
    "        if not((int(dbVal['hgt'][0:-2])>=59) and (int(dbVal['hgt'][0:-2])<=76)):\n",
    "#             print(key)\n",
    "            listInvalid.append(key)\n",
    "    else:\n",
    "#         print(key)\n",
    "        listInvalid.append(key)\n",
    "        \n",
    "# Make list of allowable characters\n",
    "allowChar = [str(ii) for ii in range(10)]\n",
    "allowChar.extend([chr(97+ii) for ii in range(6)])\n",
    "\n",
    "for key, dbVal in dbValid.items():\n",
    "    if dbVal['hcl'][0]=='#':\n",
    "        if not all([val in allowChar for val in list(dbVal['hcl'][1:])]):\n",
    "#             print(key)\n",
    "            listInvalid.append(key)\n",
    "    else:\n",
    "#         print(key)\n",
    "        listInvalid.append(key)\n",
    "    \n",
    "validecl = ['amb', 'blu', 'brn', 'gry', 'grn', 'hzl', 'oth']\n",
    "for key, dbVal in dbValid.items():\n",
    "    if not dbVal['ecl'] in validecl:\n",
    "#         print(key)\n",
    "        listInvalid.append(key)\n",
    "    \n",
    "allowCharpid = [str(ii) for ii in range(10)]\n",
    "for key, dbVal in dbValid.items():\n",
    "    if len(dbVal['pid'])==9:\n",
    "        if not all([val in allowCharpid for val in list(dbVal['pid'])]):\n",
    "#             print(key)\n",
    "            listInvalid.append(key)\n",
    "    else:\n",
    "#         print(key)\n",
    "        listInvalid.append(key)\n",
    "\n",
    "listInvalid = list(set(listInvalid))  # remove duplicate validity strikes\n",
    "\n",
    "print('List of invalid database entries to remove {}'.format(listInvalid))\n",
    "\n",
    "# delete database entries that are invalid\n",
    "for key in listInvalid:\n",
    "    del dbValid[key]\n",
    "    \n",
    "print('Number of valid passports are removing invalid entries = {}.'.format(len(dbValid)))"
   ]
  }
 ],
 "metadata": {
  "kernelspec": {
   "display_name": "Python 3",
   "language": "python",
   "name": "python3"
  },
  "language_info": {
   "codemirror_mode": {
    "name": "ipython",
    "version": 3
   },
   "file_extension": ".py",
   "mimetype": "text/x-python",
   "name": "python",
   "nbconvert_exporter": "python",
   "pygments_lexer": "ipython3",
   "version": "3.7.9"
  }
 },
 "nbformat": 4,
 "nbformat_minor": 4
}
