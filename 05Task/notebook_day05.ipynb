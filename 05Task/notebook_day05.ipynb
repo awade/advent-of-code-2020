{
 "cells": [
  {
   "cell_type": "markdown",
   "metadata": {},
   "source": [
    "# adventofcode\n",
    "\n",
    "## Day 05\n",
    "\n",
    "\n",
    "--------\n",
    "| Author | Andrew Wade |\n",
    "| :---- | ------|\n",
    "| Date | xx Oct 2021 | \n",
    "| Contact | awade (at) andrew.wade@anu.edu.au|\n",
    "| Ref | [Day 05](https://adventofcode.com/2020/day/5) |"
   ]
  },
  {
   "cell_type": "markdown",
   "metadata": {},
   "source": [
    "-- Day 5: Binary Boarding ---\n",
    "\n",
    "You board your plane only to discover a new problem: you dropped your boarding pass! You aren't sure which seat is yours, and all of the flight attendants are busy with the flood of people that suddenly made it through passport control.\n",
    "\n",
    "You write a quick program to use your phone's camera to scan all of the nearby boarding passes (your puzzle input); perhaps you can find your seat through process of elimination.\n",
    "\n",
    "Instead of zones or groups, this airline uses binary space partitioning to seat people. A seat might be specified like FBFBBFFRLR, where F means \"front\", B means \"back\", L means \"left\", and R means \"right\".\n",
    "\n",
    "The first 7 characters will either be F or B; these specify exactly one of the 128 rows on the plane (numbered 0 through 127). Each letter tells you which half of a region the given seat is in. Start with the whole list of rows; the first letter indicates whether the seat is in the front (0 through 63) or the back (64 through 127). The next letter indicates which half of that region the seat is in, and so on until you're left with exactly one row.\n",
    "\n",
    "For example, consider just the first seven characters of FBFBBFFRLR:\n",
    "\n",
    "Start by considering the whole range, rows 0 through 127.\n",
    "F means to take the lower half, keeping rows 0 through 63.\n",
    "B means to take the upper half, keeping rows 32 through 63.\n",
    "F means to take the lower half, keeping rows 32 through 47.\n",
    "B means to take the upper half, keeping rows 40 through 47.\n",
    "B keeps rows 44 through 47.\n",
    "F keeps rows 44 through 45.\n",
    "The final F keeps the lower of the two, row 44.\n",
    "The last three characters will be either L or R; these specify exactly one of the 8 columns of seats on the plane (numbered 0 through 7). The same process as above proceeds again, this time with only three steps. L means to keep the lower half, while R means to keep the upper half.\n",
    "\n",
    "For example, consider just the last 3 characters of FBFBBFFRLR:\n",
    "\n",
    "Start by considering the whole range, columns 0 through 7.\n",
    "R means to take the upper half, keeping columns 4 through 7.\n",
    "L means to take the lower half, keeping columns 4 through 5.\n",
    "The final R keeps the upper of the two, column 5.\n",
    "So, decoding FBFBBFFRLR reveals that it is the seat at row 44, column 5.\n",
    "\n",
    "Every seat also has a unique seat ID: multiply the row by 8, then add the column. In this example, the seat has ID 44 * 8 + 5 = 357.\n",
    "\n",
    "Here are some other boarding passes:\n",
    "\n",
    "BFFFBBFRRR: row 70, column 7, seat ID 567.\n",
    "FFFBBBFRRR: row 14, column 7, seat ID 119.\n",
    "BBFFBBFRLL: row 102, column 4, seat ID 820.\n",
    "As a sanity check, look through your list of boarding passes. What is the highest seat ID on a boarding pass?\n",
    "\n",
    "Your puzzle answer was 818.\n",
    "\n",
    "--- Part Two ---\n",
    "\n",
    "Ding! The \"fasten seat belt\" signs have turned on. Time to find your seat.\n",
    "\n",
    "It's a completely full flight, so your seat should be the only missing boarding pass in your list. However, there's a catch: some of the seats at the very front and back of the plane don't exist on this aircraft, so they'll be missing from your list as well.\n",
    "\n",
    "Your seat wasn't at the very front or back, though; the seats with IDs +1 and -1 from yours will be in your list.\n",
    "\n",
    "What is the ID of your seat?"
   ]
  },
  {
   "cell_type": "code",
   "execution_count": 8,
   "metadata": {},
   "outputs": [],
   "source": [
    "import numpy as np"
   ]
  },
  {
   "cell_type": "code",
   "execution_count": 1,
   "metadata": {},
   "outputs": [],
   "source": [
    "def seatDecoder(inpt):\n",
    "    # Extract row code and replace with 1s and 0s\n",
    "    rowCode = inpt[0:7].replace('B', '1').replace('F', '0')\n",
    "    # Extract row code and replace with 1s and 0s\n",
    "    colCode = inpt[-3:].replace('R', '1').replace('L', '0')\n",
    "    \n",
    "    # Translate to base ten numbering of seats\n",
    "    rowNumber = 2**6 * int(rowCode[0]) + \\\n",
    "                2**5 * int(rowCode[1]) + \\\n",
    "                2**4 * int(rowCode[2]) + \\\n",
    "                2**3 * int(rowCode[3]) + \\\n",
    "                2**2 * int(rowCode[4]) + \\\n",
    "                2**1 * int(rowCode[5]) + \\\n",
    "                2**0 * int(rowCode[6])\n",
    "    \n",
    "    colNumber = 2**2 * int(colCode[0]) + \\\n",
    "                2**1 * int(colCode[1]) + \\\n",
    "                2**0 * int(colCode[2])\n",
    "    \n",
    "    return rowNumber, colNumber\n",
    "\n",
    "def getSeatID(rowNumber, colNumber):\n",
    "    # Return unique ID for row col combination\n",
    "    return rowNumber*8 + colNumber"
   ]
  },
  {
   "cell_type": "markdown",
   "metadata": {},
   "source": [
    "Test the methods against the example data"
   ]
  },
  {
   "cell_type": "code",
   "execution_count": 2,
   "metadata": {},
   "outputs": [
    {
     "name": "stdout",
     "output_type": "stream",
     "text": [
      "Row 70, column 7.\n",
      "Unique seat ID = 567.\n"
     ]
    }
   ],
   "source": [
    "r, c = seatDecoder('BFFFBBFRRR')\n",
    "print('Row {}, column {}.'.format(r,c))\n",
    "print('Unique seat ID = {}.'.format(getSeatID(r,c)))"
   ]
  },
  {
   "cell_type": "code",
   "execution_count": 3,
   "metadata": {},
   "outputs": [
    {
     "name": "stdout",
     "output_type": "stream",
     "text": [
      "Row 14, column 7.\n",
      "Unique seat ID = 119.\n"
     ]
    }
   ],
   "source": [
    "r, c = seatDecoder('FFFBBBFRRR')\n",
    "print('Row {}, column {}.'.format(r,c))\n",
    "print('Unique seat ID = {}.'.format(getSeatID(r,c)))"
   ]
  },
  {
   "cell_type": "code",
   "execution_count": 4,
   "metadata": {},
   "outputs": [
    {
     "name": "stdout",
     "output_type": "stream",
     "text": [
      "Row 102, column 4.\n",
      "Unique seat ID = 820.\n"
     ]
    }
   ],
   "source": [
    "r, c = seatDecoder('BBFFBBFRLL')\n",
    "print('Row {}, column {}.'.format(r,c))\n",
    "print('Unique seat ID = {}.'.format(getSeatID(r,c)))"
   ]
  },
  {
   "cell_type": "markdown",
   "metadata": {},
   "source": [
    "## Part 1: Find highest ID from provided list of tickets"
   ]
  },
  {
   "cell_type": "code",
   "execution_count": 5,
   "metadata": {},
   "outputs": [],
   "source": [
    "# Import the data\n",
    "fileName = 'puzzleInput.txt'\n",
    "\n",
    "# Import the data into fields\n",
    "ticketList = []\n",
    "with open(fileName) as f:\n",
    "    for line in f:\n",
    "        ticketList.append(line.split()[0])"
   ]
  },
  {
   "cell_type": "code",
   "execution_count": 7,
   "metadata": {},
   "outputs": [
    {
     "name": "stdout",
     "output_type": "stream",
     "text": [
      "The maximium ID from puzzle input is 818.\n"
     ]
    }
   ],
   "source": [
    "IDList = []\n",
    "for ticket in ticketList:\n",
    "    r, c = seatDecoder(ticket)\n",
    "    IDList.append(getSeatID(r,c))\n",
    "\n",
    "print('The maximium ID from puzzle input is {}.'.format(max(IDList)))    "
   ]
  },
  {
   "cell_type": "markdown",
   "metadata": {},
   "source": [
    "## Part 2: Find my seat"
   ]
  },
  {
   "cell_type": "code",
   "execution_count": 66,
   "metadata": {},
   "outputs": [],
   "source": [
    "# Sort ticket list and ID list by IDlist order\n",
    "idxSortList = np.argsort(IDList)\n",
    "IDList_sorted = [IDList[ii] for ii in idxSortList]\n",
    "ticketList_sorted = [ticketList[ii] for ii in idxSortList]\n",
    "# print(IDList_sorted)\n",
    "# print(ticketList_sorted)"
   ]
  },
  {
   "cell_type": "markdown",
   "metadata": {},
   "source": [
    "Puzzle instructions indicate that only one seat is empty and that it isn't at the ends.  Under these assuptions it is suffient to find the first point in the sequence that the difference is in unique ID is more than one."
   ]
  },
  {
   "cell_type": "code",
   "execution_count": 80,
   "metadata": {},
   "outputs": [
    {
     "name": "stdout",
     "output_type": "stream",
     "text": [
      "Ticket code just before missing = BFFFBFBRRL.\n",
      "Row 69, column 6.\n",
      "Ticket code just after missing = BFFFBBFLLL.\n",
      "Row 70, column 0.\n",
      "Unique seat ID of missing ticket = 559.\n"
     ]
    }
   ],
   "source": [
    "idxMissingTicket = np.where((np.array(IDList_sorted[1:]) - \n",
    "                             np.array(IDList_sorted[:-1]))>1)[0][0]\n",
    "\n",
    "rb, cb = seatDecoder(ticketList_sorted[idxMissingTicket])\n",
    "ra, ca = seatDecoder(ticketList_sorted[idxMissingTicket+1])\n",
    "\n",
    "\n",
    "print('Ticket code just before missing = {}.'.format(ticketList_sorted[idxMissingTicket]))\n",
    "print('Row {}, column {}.'.format(rb,cb))\n",
    "print('Ticket code just after missing = {}.'.format(ticketList_sorted[idxMissingTicket+1]))\n",
    "print('Row {}, column {}.'.format(ra,ca))\n",
    "\n",
    "\n",
    "print('Unique seat ID of missing ticket = {}.'.format(getSeatID(rb,cb)+1))"
   ]
  },
  {
   "cell_type": "markdown",
   "metadata": {},
   "source": [
    "For completeness here are all the tickets sorted in order of assending unique ID."
   ]
  },
  {
   "cell_type": "code",
   "execution_count": 79,
   "metadata": {},
   "outputs": [
    {
     "name": "stdout",
     "output_type": "stream",
     "text": [
      "List of unique IDs (sorted) = [48, 49, 50, 51, 52, 53, 54, 55, 56, 57, 58, 59, 60, 61, 62, 63, 64, 65, 66, 67, 68, 69, 70, 71, 72, 73, 74, 75, 76, 77, 78, 79, 80, 81, 82, 83, 84, 85, 86, 87, 88, 89, 90, 91, 92, 93, 94, 95, 96, 97, 98, 99, 100, 101, 102, 103, 104, 105, 106, 107, 108, 109, 110, 111, 112, 113, 114, 115, 116, 117, 118, 119, 120, 121, 122, 123, 124, 125, 126, 127, 128, 129, 130, 131, 132, 133, 134, 135, 136, 137, 138, 139, 140, 141, 142, 143, 144, 145, 146, 147, 148, 149, 150, 151, 152, 153, 154, 155, 156, 157, 158, 159, 160, 161, 162, 163, 164, 165, 166, 167, 168, 169, 170, 171, 172, 173, 174, 175, 176, 177, 178, 179, 180, 181, 182, 183, 184, 185, 186, 187, 188, 189, 190, 191, 192, 193, 194, 195, 196, 197, 198, 199, 200, 201, 202, 203, 204, 205, 206, 207, 208, 209, 210, 211, 212, 213, 214, 215, 216, 217, 218, 219, 220, 221, 222, 223, 224, 225, 226, 227, 228, 229, 230, 231, 232, 233, 234, 235, 236, 237, 238, 239, 240, 241, 242, 243, 244, 245, 246, 247, 248, 249, 250, 251, 252, 253, 254, 255, 256, 257, 258, 259, 260, 261, 262, 263, 264, 265, 266, 267, 268, 269, 270, 271, 272, 273, 274, 275, 276, 277, 278, 279, 280, 281, 282, 283, 284, 285, 286, 287, 288, 289, 290, 291, 292, 293, 294, 295, 296, 297, 298, 299, 300, 301, 302, 303, 304, 305, 306, 307, 308, 309, 310, 311, 312, 313, 314, 315, 316, 317, 318, 319, 320, 321, 322, 323, 324, 325, 326, 327, 328, 329, 330, 331, 332, 333, 334, 335, 336, 337, 338, 339, 340, 341, 342, 343, 344, 345, 346, 347, 348, 349, 350, 351, 352, 353, 354, 355, 356, 357, 358, 359, 360, 361, 362, 363, 364, 365, 366, 367, 368, 369, 370, 371, 372, 373, 374, 375, 376, 377, 378, 379, 380, 381, 382, 383, 384, 385, 386, 387, 388, 389, 390, 391, 392, 393, 394, 395, 396, 397, 398, 399, 400, 401, 402, 403, 404, 405, 406, 407, 408, 409, 410, 411, 412, 413, 414, 415, 416, 417, 418, 419, 420, 421, 422, 423, 424, 425, 426, 427, 428, 429, 430, 431, 432, 433, 434, 435, 436, 437, 438, 439, 440, 441, 442, 443, 444, 445, 446, 447, 448, 449, 450, 451, 452, 453, 454, 455, 456, 457, 458, 459, 460, 461, 462, 463, 464, 465, 466, 467, 468, 469, 470, 471, 472, 473, 474, 475, 476, 477, 478, 479, 480, 481, 482, 483, 484, 485, 486, 487, 488, 489, 490, 491, 492, 493, 494, 495, 496, 497, 498, 499, 500, 501, 502, 503, 504, 505, 506, 507, 508, 509, 510, 511, 512, 513, 514, 515, 516, 517, 518, 519, 520, 521, 522, 523, 524, 525, 526, 527, 528, 529, 530, 531, 532, 533, 534, 535, 536, 537, 538, 539, 540, 541, 542, 543, 544, 545, 546, 547, 548, 549, 550, 551, 552, 553, 554, 555, 556, 557, 558, 560, 561, 562, 563, 564, 565, 566, 567, 568, 569, 570, 571, 572, 573, 574, 575, 576, 577, 578, 579, 580, 581, 582, 583, 584, 585, 586, 587, 588, 589, 590, 591, 592, 593, 594, 595, 596, 597, 598, 599, 600, 601, 602, 603, 604, 605, 606, 607, 608, 609, 610, 611, 612, 613, 614, 615, 616, 617, 618, 619, 620, 621, 622, 623, 624, 625, 626, 627, 628, 629, 630, 631, 632, 633, 634, 635, 636, 637, 638, 639, 640, 641, 642, 643, 644, 645, 646, 647, 648, 649, 650, 651, 652, 653, 654, 655, 656, 657, 658, 659, 660, 661, 662, 663, 664, 665, 666, 667, 668, 669, 670, 671, 672, 673, 674, 675, 676, 677, 678, 679, 680, 681, 682, 683, 684, 685, 686, 687, 688, 689, 690, 691, 692, 693, 694, 695, 696, 697, 698, 699, 700, 701, 702, 703, 704, 705, 706, 707, 708, 709, 710, 711, 712, 713, 714, 715, 716, 717, 718, 719, 720, 721, 722, 723, 724, 725, 726, 727, 728, 729, 730, 731, 732, 733, 734, 735, 736, 737, 738, 739, 740, 741, 742, 743, 744, 745, 746, 747, 748, 749, 750, 751, 752, 753, 754, 755, 756, 757, 758, 759, 760, 761, 762, 763, 764, 765, 766, 767, 768, 769, 770, 771, 772, 773, 774, 775, 776, 777, 778, 779, 780, 781, 782, 783, 784, 785, 786, 787, 788, 789, 790, 791, 792, 793, 794, 795, 796, 797, 798, 799, 800, 801, 802, 803, 804, 805, 806, 807, 808, 809, 810, 811, 812, 813, 814, 815, 816, 817, 818].\n",
      "\n",
      "List of ticket codes (sorted by ID) = ['FFFFBBFLLL', 'FFFFBBFLLR', 'FFFFBBFLRL', 'FFFFBBFLRR', 'FFFFBBFRLL', 'FFFFBBFRLR', 'FFFFBBFRRL', 'FFFFBBFRRR', 'FFFFBBBLLL', 'FFFFBBBLLR', 'FFFFBBBLRL', 'FFFFBBBLRR', 'FFFFBBBRLL', 'FFFFBBBRLR', 'FFFFBBBRRL', 'FFFFBBBRRR', 'FFFBFFFLLL', 'FFFBFFFLLR', 'FFFBFFFLRL', 'FFFBFFFLRR', 'FFFBFFFRLL', 'FFFBFFFRLR', 'FFFBFFFRRL', 'FFFBFFFRRR', 'FFFBFFBLLL', 'FFFBFFBLLR', 'FFFBFFBLRL', 'FFFBFFBLRR', 'FFFBFFBRLL', 'FFFBFFBRLR', 'FFFBFFBRRL', 'FFFBFFBRRR', 'FFFBFBFLLL', 'FFFBFBFLLR', 'FFFBFBFLRL', 'FFFBFBFLRR', 'FFFBFBFRLL', 'FFFBFBFRLR', 'FFFBFBFRRL', 'FFFBFBFRRR', 'FFFBFBBLLL', 'FFFBFBBLLR', 'FFFBFBBLRL', 'FFFBFBBLRR', 'FFFBFBBRLL', 'FFFBFBBRLR', 'FFFBFBBRRL', 'FFFBFBBRRR', 'FFFBBFFLLL', 'FFFBBFFLLR', 'FFFBBFFLRL', 'FFFBBFFLRR', 'FFFBBFFRLL', 'FFFBBFFRLR', 'FFFBBFFRRL', 'FFFBBFFRRR', 'FFFBBFBLLL', 'FFFBBFBLLR', 'FFFBBFBLRL', 'FFFBBFBLRR', 'FFFBBFBRLL', 'FFFBBFBRLR', 'FFFBBFBRRL', 'FFFBBFBRRR', 'FFFBBBFLLL', 'FFFBBBFLLR', 'FFFBBBFLRL', 'FFFBBBFLRR', 'FFFBBBFRLL', 'FFFBBBFRLR', 'FFFBBBFRRL', 'FFFBBBFRRR', 'FFFBBBBLLL', 'FFFBBBBLLR', 'FFFBBBBLRL', 'FFFBBBBLRR', 'FFFBBBBRLL', 'FFFBBBBRLR', 'FFFBBBBRRL', 'FFFBBBBRRR', 'FFBFFFFLLL', 'FFBFFFFLLR', 'FFBFFFFLRL', 'FFBFFFFLRR', 'FFBFFFFRLL', 'FFBFFFFRLR', 'FFBFFFFRRL', 'FFBFFFFRRR', 'FFBFFFBLLL', 'FFBFFFBLLR', 'FFBFFFBLRL', 'FFBFFFBLRR', 'FFBFFFBRLL', 'FFBFFFBRLR', 'FFBFFFBRRL', 'FFBFFFBRRR', 'FFBFFBFLLL', 'FFBFFBFLLR', 'FFBFFBFLRL', 'FFBFFBFLRR', 'FFBFFBFRLL', 'FFBFFBFRLR', 'FFBFFBFRRL', 'FFBFFBFRRR', 'FFBFFBBLLL', 'FFBFFBBLLR', 'FFBFFBBLRL', 'FFBFFBBLRR', 'FFBFFBBRLL', 'FFBFFBBRLR', 'FFBFFBBRRL', 'FFBFFBBRRR', 'FFBFBFFLLL', 'FFBFBFFLLR', 'FFBFBFFLRL', 'FFBFBFFLRR', 'FFBFBFFRLL', 'FFBFBFFRLR', 'FFBFBFFRRL', 'FFBFBFFRRR', 'FFBFBFBLLL', 'FFBFBFBLLR', 'FFBFBFBLRL', 'FFBFBFBLRR', 'FFBFBFBRLL', 'FFBFBFBRLR', 'FFBFBFBRRL', 'FFBFBFBRRR', 'FFBFBBFLLL', 'FFBFBBFLLR', 'FFBFBBFLRL', 'FFBFBBFLRR', 'FFBFBBFRLL', 'FFBFBBFRLR', 'FFBFBBFRRL', 'FFBFBBFRRR', 'FFBFBBBLLL', 'FFBFBBBLLR', 'FFBFBBBLRL', 'FFBFBBBLRR', 'FFBFBBBRLL', 'FFBFBBBRLR', 'FFBFBBBRRL', 'FFBFBBBRRR', 'FFBBFFFLLL', 'FFBBFFFLLR', 'FFBBFFFLRL', 'FFBBFFFLRR', 'FFBBFFFRLL', 'FFBBFFFRLR', 'FFBBFFFRRL', 'FFBBFFFRRR', 'FFBBFFBLLL', 'FFBBFFBLLR', 'FFBBFFBLRL', 'FFBBFFBLRR', 'FFBBFFBRLL', 'FFBBFFBRLR', 'FFBBFFBRRL', 'FFBBFFBRRR', 'FFBBFBFLLL', 'FFBBFBFLLR', 'FFBBFBFLRL', 'FFBBFBFLRR', 'FFBBFBFRLL', 'FFBBFBFRLR', 'FFBBFBFRRL', 'FFBBFBFRRR', 'FFBBFBBLLL', 'FFBBFBBLLR', 'FFBBFBBLRL', 'FFBBFBBLRR', 'FFBBFBBRLL', 'FFBBFBBRLR', 'FFBBFBBRRL', 'FFBBFBBRRR', 'FFBBBFFLLL', 'FFBBBFFLLR', 'FFBBBFFLRL', 'FFBBBFFLRR', 'FFBBBFFRLL', 'FFBBBFFRLR', 'FFBBBFFRRL', 'FFBBBFFRRR', 'FFBBBFBLLL', 'FFBBBFBLLR', 'FFBBBFBLRL', 'FFBBBFBLRR', 'FFBBBFBRLL', 'FFBBBFBRLR', 'FFBBBFBRRL', 'FFBBBFBRRR', 'FFBBBBFLLL', 'FFBBBBFLLR', 'FFBBBBFLRL', 'FFBBBBFLRR', 'FFBBBBFRLL', 'FFBBBBFRLR', 'FFBBBBFRRL', 'FFBBBBFRRR', 'FFBBBBBLLL', 'FFBBBBBLLR', 'FFBBBBBLRL', 'FFBBBBBLRR', 'FFBBBBBRLL', 'FFBBBBBRLR', 'FFBBBBBRRL', 'FFBBBBBRRR', 'FBFFFFFLLL', 'FBFFFFFLLR', 'FBFFFFFLRL', 'FBFFFFFLRR', 'FBFFFFFRLL', 'FBFFFFFRLR', 'FBFFFFFRRL', 'FBFFFFFRRR', 'FBFFFFBLLL', 'FBFFFFBLLR', 'FBFFFFBLRL', 'FBFFFFBLRR', 'FBFFFFBRLL', 'FBFFFFBRLR', 'FBFFFFBRRL', 'FBFFFFBRRR', 'FBFFFBFLLL', 'FBFFFBFLLR', 'FBFFFBFLRL', 'FBFFFBFLRR', 'FBFFFBFRLL', 'FBFFFBFRLR', 'FBFFFBFRRL', 'FBFFFBFRRR', 'FBFFFBBLLL', 'FBFFFBBLLR', 'FBFFFBBLRL', 'FBFFFBBLRR', 'FBFFFBBRLL', 'FBFFFBBRLR', 'FBFFFBBRRL', 'FBFFFBBRRR', 'FBFFBFFLLL', 'FBFFBFFLLR', 'FBFFBFFLRL', 'FBFFBFFLRR', 'FBFFBFFRLL', 'FBFFBFFRLR', 'FBFFBFFRRL', 'FBFFBFFRRR', 'FBFFBFBLLL', 'FBFFBFBLLR', 'FBFFBFBLRL', 'FBFFBFBLRR', 'FBFFBFBRLL', 'FBFFBFBRLR', 'FBFFBFBRRL', 'FBFFBFBRRR', 'FBFFBBFLLL', 'FBFFBBFLLR', 'FBFFBBFLRL', 'FBFFBBFLRR', 'FBFFBBFRLL', 'FBFFBBFRLR', 'FBFFBBFRRL', 'FBFFBBFRRR', 'FBFFBBBLLL', 'FBFFBBBLLR', 'FBFFBBBLRL', 'FBFFBBBLRR', 'FBFFBBBRLL', 'FBFFBBBRLR', 'FBFFBBBRRL', 'FBFFBBBRRR', 'FBFBFFFLLL', 'FBFBFFFLLR', 'FBFBFFFLRL', 'FBFBFFFLRR', 'FBFBFFFRLL', 'FBFBFFFRLR', 'FBFBFFFRRL', 'FBFBFFFRRR', 'FBFBFFBLLL', 'FBFBFFBLLR', 'FBFBFFBLRL', 'FBFBFFBLRR', 'FBFBFFBRLL', 'FBFBFFBRLR', 'FBFBFFBRRL', 'FBFBFFBRRR', 'FBFBFBFLLL', 'FBFBFBFLLR', 'FBFBFBFLRL', 'FBFBFBFLRR', 'FBFBFBFRLL', 'FBFBFBFRLR', 'FBFBFBFRRL', 'FBFBFBFRRR', 'FBFBFBBLLL', 'FBFBFBBLLR', 'FBFBFBBLRL', 'FBFBFBBLRR', 'FBFBFBBRLL', 'FBFBFBBRLR', 'FBFBFBBRRL', 'FBFBFBBRRR', 'FBFBBFFLLL', 'FBFBBFFLLR', 'FBFBBFFLRL', 'FBFBBFFLRR', 'FBFBBFFRLL', 'FBFBBFFRLR', 'FBFBBFFRRL', 'FBFBBFFRRR', 'FBFBBFBLLL', 'FBFBBFBLLR', 'FBFBBFBLRL', 'FBFBBFBLRR', 'FBFBBFBRLL', 'FBFBBFBRLR', 'FBFBBFBRRL', 'FBFBBFBRRR', 'FBFBBBFLLL', 'FBFBBBFLLR', 'FBFBBBFLRL', 'FBFBBBFLRR', 'FBFBBBFRLL', 'FBFBBBFRLR', 'FBFBBBFRRL', 'FBFBBBFRRR', 'FBFBBBBLLL', 'FBFBBBBLLR', 'FBFBBBBLRL', 'FBFBBBBLRR', 'FBFBBBBRLL', 'FBFBBBBRLR', 'FBFBBBBRRL', 'FBFBBBBRRR', 'FBBFFFFLLL', 'FBBFFFFLLR', 'FBBFFFFLRL', 'FBBFFFFLRR', 'FBBFFFFRLL', 'FBBFFFFRLR', 'FBBFFFFRRL', 'FBBFFFFRRR', 'FBBFFFBLLL', 'FBBFFFBLLR', 'FBBFFFBLRL', 'FBBFFFBLRR', 'FBBFFFBRLL', 'FBBFFFBRLR', 'FBBFFFBRRL', 'FBBFFFBRRR', 'FBBFFBFLLL', 'FBBFFBFLLR', 'FBBFFBFLRL', 'FBBFFBFLRR', 'FBBFFBFRLL', 'FBBFFBFRLR', 'FBBFFBFRRL', 'FBBFFBFRRR', 'FBBFFBBLLL', 'FBBFFBBLLR', 'FBBFFBBLRL', 'FBBFFBBLRR', 'FBBFFBBRLL', 'FBBFFBBRLR', 'FBBFFBBRRL', 'FBBFFBBRRR', 'FBBFBFFLLL', 'FBBFBFFLLR', 'FBBFBFFLRL', 'FBBFBFFLRR', 'FBBFBFFRLL', 'FBBFBFFRLR', 'FBBFBFFRRL', 'FBBFBFFRRR', 'FBBFBFBLLL', 'FBBFBFBLLR', 'FBBFBFBLRL', 'FBBFBFBLRR', 'FBBFBFBRLL', 'FBBFBFBRLR', 'FBBFBFBRRL', 'FBBFBFBRRR', 'FBBFBBFLLL', 'FBBFBBFLLR', 'FBBFBBFLRL', 'FBBFBBFLRR', 'FBBFBBFRLL', 'FBBFBBFRLR', 'FBBFBBFRRL', 'FBBFBBFRRR', 'FBBFBBBLLL', 'FBBFBBBLLR', 'FBBFBBBLRL', 'FBBFBBBLRR', 'FBBFBBBRLL', 'FBBFBBBRLR', 'FBBFBBBRRL', 'FBBFBBBRRR', 'FBBBFFFLLL', 'FBBBFFFLLR', 'FBBBFFFLRL', 'FBBBFFFLRR', 'FBBBFFFRLL', 'FBBBFFFRLR', 'FBBBFFFRRL', 'FBBBFFFRRR', 'FBBBFFBLLL', 'FBBBFFBLLR', 'FBBBFFBLRL', 'FBBBFFBLRR', 'FBBBFFBRLL', 'FBBBFFBRLR', 'FBBBFFBRRL', 'FBBBFFBRRR', 'FBBBFBFLLL', 'FBBBFBFLLR', 'FBBBFBFLRL', 'FBBBFBFLRR', 'FBBBFBFRLL', 'FBBBFBFRLR', 'FBBBFBFRRL', 'FBBBFBFRRR', 'FBBBFBBLLL', 'FBBBFBBLLR', 'FBBBFBBLRL', 'FBBBFBBLRR', 'FBBBFBBRLL', 'FBBBFBBRLR', 'FBBBFBBRRL', 'FBBBFBBRRR', 'FBBBBFFLLL', 'FBBBBFFLLR', 'FBBBBFFLRL', 'FBBBBFFLRR', 'FBBBBFFRLL', 'FBBBBFFRLR', 'FBBBBFFRRL', 'FBBBBFFRRR', 'FBBBBFBLLL', 'FBBBBFBLLR', 'FBBBBFBLRL', 'FBBBBFBLRR', 'FBBBBFBRLL', 'FBBBBFBRLR', 'FBBBBFBRRL', 'FBBBBFBRRR', 'FBBBBBFLLL', 'FBBBBBFLLR', 'FBBBBBFLRL', 'FBBBBBFLRR', 'FBBBBBFRLL', 'FBBBBBFRLR', 'FBBBBBFRRL', 'FBBBBBFRRR', 'FBBBBBBLLL', 'FBBBBBBLLR', 'FBBBBBBLRL', 'FBBBBBBLRR', 'FBBBBBBRLL', 'FBBBBBBRLR', 'FBBBBBBRRL', 'FBBBBBBRRR', 'BFFFFFFLLL', 'BFFFFFFLLR', 'BFFFFFFLRL', 'BFFFFFFLRR', 'BFFFFFFRLL', 'BFFFFFFRLR', 'BFFFFFFRRL', 'BFFFFFFRRR', 'BFFFFFBLLL', 'BFFFFFBLLR', 'BFFFFFBLRL', 'BFFFFFBLRR', 'BFFFFFBRLL', 'BFFFFFBRLR', 'BFFFFFBRRL', 'BFFFFFBRRR', 'BFFFFBFLLL', 'BFFFFBFLLR', 'BFFFFBFLRL', 'BFFFFBFLRR', 'BFFFFBFRLL', 'BFFFFBFRLR', 'BFFFFBFRRL', 'BFFFFBFRRR', 'BFFFFBBLLL', 'BFFFFBBLLR', 'BFFFFBBLRL', 'BFFFFBBLRR', 'BFFFFBBRLL', 'BFFFFBBRLR', 'BFFFFBBRRL', 'BFFFFBBRRR', 'BFFFBFFLLL', 'BFFFBFFLLR', 'BFFFBFFLRL', 'BFFFBFFLRR', 'BFFFBFFRLL', 'BFFFBFFRLR', 'BFFFBFFRRL', 'BFFFBFFRRR', 'BFFFBFBLLL', 'BFFFBFBLLR', 'BFFFBFBLRL', 'BFFFBFBLRR', 'BFFFBFBRLL', 'BFFFBFBRLR', 'BFFFBFBRRL', 'BFFFBBFLLL', 'BFFFBBFLLR', 'BFFFBBFLRL', 'BFFFBBFLRR', 'BFFFBBFRLL', 'BFFFBBFRLR', 'BFFFBBFRRL', 'BFFFBBFRRR', 'BFFFBBBLLL', 'BFFFBBBLLR', 'BFFFBBBLRL', 'BFFFBBBLRR', 'BFFFBBBRLL', 'BFFFBBBRLR', 'BFFFBBBRRL', 'BFFFBBBRRR', 'BFFBFFFLLL', 'BFFBFFFLLR', 'BFFBFFFLRL', 'BFFBFFFLRR', 'BFFBFFFRLL', 'BFFBFFFRLR', 'BFFBFFFRRL', 'BFFBFFFRRR', 'BFFBFFBLLL', 'BFFBFFBLLR', 'BFFBFFBLRL', 'BFFBFFBLRR', 'BFFBFFBRLL', 'BFFBFFBRLR', 'BFFBFFBRRL', 'BFFBFFBRRR', 'BFFBFBFLLL', 'BFFBFBFLLR', 'BFFBFBFLRL', 'BFFBFBFLRR', 'BFFBFBFRLL', 'BFFBFBFRLR', 'BFFBFBFRRL', 'BFFBFBFRRR', 'BFFBFBBLLL', 'BFFBFBBLLR', 'BFFBFBBLRL', 'BFFBFBBLRR', 'BFFBFBBRLL', 'BFFBFBBRLR', 'BFFBFBBRRL', 'BFFBFBBRRR', 'BFFBBFFLLL', 'BFFBBFFLLR', 'BFFBBFFLRL', 'BFFBBFFLRR', 'BFFBBFFRLL', 'BFFBBFFRLR', 'BFFBBFFRRL', 'BFFBBFFRRR', 'BFFBBFBLLL', 'BFFBBFBLLR', 'BFFBBFBLRL', 'BFFBBFBLRR', 'BFFBBFBRLL', 'BFFBBFBRLR', 'BFFBBFBRRL', 'BFFBBFBRRR', 'BFFBBBFLLL', 'BFFBBBFLLR', 'BFFBBBFLRL', 'BFFBBBFLRR', 'BFFBBBFRLL', 'BFFBBBFRLR', 'BFFBBBFRRL', 'BFFBBBFRRR', 'BFFBBBBLLL', 'BFFBBBBLLR', 'BFFBBBBLRL', 'BFFBBBBLRR', 'BFFBBBBRLL', 'BFFBBBBRLR', 'BFFBBBBRRL', 'BFFBBBBRRR', 'BFBFFFFLLL', 'BFBFFFFLLR', 'BFBFFFFLRL', 'BFBFFFFLRR', 'BFBFFFFRLL', 'BFBFFFFRLR', 'BFBFFFFRRL', 'BFBFFFFRRR', 'BFBFFFBLLL', 'BFBFFFBLLR', 'BFBFFFBLRL', 'BFBFFFBLRR', 'BFBFFFBRLL', 'BFBFFFBRLR', 'BFBFFFBRRL', 'BFBFFFBRRR', 'BFBFFBFLLL', 'BFBFFBFLLR', 'BFBFFBFLRL', 'BFBFFBFLRR', 'BFBFFBFRLL', 'BFBFFBFRLR', 'BFBFFBFRRL', 'BFBFFBFRRR', 'BFBFFBBLLL', 'BFBFFBBLLR', 'BFBFFBBLRL', 'BFBFFBBLRR', 'BFBFFBBRLL', 'BFBFFBBRLR', 'BFBFFBBRRL', 'BFBFFBBRRR', 'BFBFBFFLLL', 'BFBFBFFLLR', 'BFBFBFFLRL', 'BFBFBFFLRR', 'BFBFBFFRLL', 'BFBFBFFRLR', 'BFBFBFFRRL', 'BFBFBFFRRR', 'BFBFBFBLLL', 'BFBFBFBLLR', 'BFBFBFBLRL', 'BFBFBFBLRR', 'BFBFBFBRLL', 'BFBFBFBRLR', 'BFBFBFBRRL', 'BFBFBFBRRR', 'BFBFBBFLLL', 'BFBFBBFLLR', 'BFBFBBFLRL', 'BFBFBBFLRR', 'BFBFBBFRLL', 'BFBFBBFRLR', 'BFBFBBFRRL', 'BFBFBBFRRR', 'BFBFBBBLLL', 'BFBFBBBLLR', 'BFBFBBBLRL', 'BFBFBBBLRR', 'BFBFBBBRLL', 'BFBFBBBRLR', 'BFBFBBBRRL', 'BFBFBBBRRR', 'BFBBFFFLLL', 'BFBBFFFLLR', 'BFBBFFFLRL', 'BFBBFFFLRR', 'BFBBFFFRLL', 'BFBBFFFRLR', 'BFBBFFFRRL', 'BFBBFFFRRR', 'BFBBFFBLLL', 'BFBBFFBLLR', 'BFBBFFBLRL', 'BFBBFFBLRR', 'BFBBFFBRLL', 'BFBBFFBRLR', 'BFBBFFBRRL', 'BFBBFFBRRR', 'BFBBFBFLLL', 'BFBBFBFLLR', 'BFBBFBFLRL', 'BFBBFBFLRR', 'BFBBFBFRLL', 'BFBBFBFRLR', 'BFBBFBFRRL', 'BFBBFBFRRR', 'BFBBFBBLLL', 'BFBBFBBLLR', 'BFBBFBBLRL', 'BFBBFBBLRR', 'BFBBFBBRLL', 'BFBBFBBRLR', 'BFBBFBBRRL', 'BFBBFBBRRR', 'BFBBBFFLLL', 'BFBBBFFLLR', 'BFBBBFFLRL', 'BFBBBFFLRR', 'BFBBBFFRLL', 'BFBBBFFRLR', 'BFBBBFFRRL', 'BFBBBFFRRR', 'BFBBBFBLLL', 'BFBBBFBLLR', 'BFBBBFBLRL', 'BFBBBFBLRR', 'BFBBBFBRLL', 'BFBBBFBRLR', 'BFBBBFBRRL', 'BFBBBFBRRR', 'BFBBBBFLLL', 'BFBBBBFLLR', 'BFBBBBFLRL', 'BFBBBBFLRR', 'BFBBBBFRLL', 'BFBBBBFRLR', 'BFBBBBFRRL', 'BFBBBBFRRR', 'BFBBBBBLLL', 'BFBBBBBLLR', 'BFBBBBBLRL', 'BFBBBBBLRR', 'BFBBBBBRLL', 'BFBBBBBRLR', 'BFBBBBBRRL', 'BFBBBBBRRR', 'BBFFFFFLLL', 'BBFFFFFLLR', 'BBFFFFFLRL', 'BBFFFFFLRR', 'BBFFFFFRLL', 'BBFFFFFRLR', 'BBFFFFFRRL', 'BBFFFFFRRR', 'BBFFFFBLLL', 'BBFFFFBLLR', 'BBFFFFBLRL', 'BBFFFFBLRR', 'BBFFFFBRLL', 'BBFFFFBRLR', 'BBFFFFBRRL', 'BBFFFFBRRR', 'BBFFFBFLLL', 'BBFFFBFLLR', 'BBFFFBFLRL', 'BBFFFBFLRR', 'BBFFFBFRLL', 'BBFFFBFRLR', 'BBFFFBFRRL', 'BBFFFBFRRR', 'BBFFFBBLLL', 'BBFFFBBLLR', 'BBFFFBBLRL', 'BBFFFBBLRR', 'BBFFFBBRLL', 'BBFFFBBRLR', 'BBFFFBBRRL', 'BBFFFBBRRR', 'BBFFBFFLLL', 'BBFFBFFLLR', 'BBFFBFFLRL', 'BBFFBFFLRR', 'BBFFBFFRLL', 'BBFFBFFRLR', 'BBFFBFFRRL', 'BBFFBFFRRR', 'BBFFBFBLLL', 'BBFFBFBLLR', 'BBFFBFBLRL', 'BBFFBFBLRR', 'BBFFBFBRLL', 'BBFFBFBRLR', 'BBFFBFBRRL', 'BBFFBFBRRR', 'BBFFBBFLLL', 'BBFFBBFLLR', 'BBFFBBFLRL'].\n"
     ]
    }
   ],
   "source": [
    "print('List of unique IDs (sorted) = {}.\\n'.format(IDList_sorted))\n",
    "print('List of ticket codes (sorted by ID) = {}.'.format(ticketList_sorted))"
   ]
  }
 ],
 "metadata": {
  "kernelspec": {
   "display_name": "Python 3",
   "language": "python",
   "name": "python3"
  },
  "language_info": {
   "codemirror_mode": {
    "name": "ipython",
    "version": 3
   },
   "file_extension": ".py",
   "mimetype": "text/x-python",
   "name": "python",
   "nbconvert_exporter": "python",
   "pygments_lexer": "ipython3",
   "version": "3.7.9"
  }
 },
 "nbformat": 4,
 "nbformat_minor": 4
}
