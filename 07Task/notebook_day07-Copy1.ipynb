{
 "cells": [
  {
   "cell_type": "markdown",
   "metadata": {},
   "source": [
    "# adventofcode\n",
    "\n",
    "## Day 07\n",
    "\n",
    "\n",
    "--------\n",
    "| Author | Andrew Wade |\n",
    "| :---- | ------|\n",
    "| Date | 17 Oct 2021 | \n",
    "| Contact | awade (at) andrew.wade@anu.edu.au|\n",
    "| Ref | [Day 07](https://adventofcode.com/2020/day/7) |"
   ]
  },
  {
   "cell_type": "markdown",
   "metadata": {},
   "source": [
    "--- Day 7: Handy Haversacks ---\n",
    "\n",
    "You land at the regional airport in time for your next flight. In fact, it looks like you'll even have time to grab some food: all flights are currently delayed due to issues in luggage processing.\n",
    "\n",
    "Due to recent aviation regulations, many rules (your puzzle input) are being enforced about bags and their contents; bags must be color-coded and must contain specific quantities of other color-coded bags. Apparently, nobody responsible for these regulations considered how long they would take to enforce!\n",
    "\n",
    "For example, consider the following rules:\n",
    "\n",
    "light red bags contain 1 bright white bag, 2 muted yellow bags.\n",
    "dark orange bags contain 3 bright white bags, 4 muted yellow bags.\n",
    "bright white bags contain 1 shiny gold bag.\n",
    "muted yellow bags contain 2 shiny gold bags, 9 faded blue bags.\n",
    "shiny gold bags contain 1 dark olive bag, 2 vibrant plum bags.\n",
    "dark olive bags contain 3 faded blue bags, 4 dotted black bags.\n",
    "vibrant plum bags contain 5 faded blue bags, 6 dotted black bags.\n",
    "faded blue bags contain no other bags.\n",
    "dotted black bags contain no other bags.\n",
    "These rules specify the required contents for 9 bag types. In this example, every faded blue bag is empty, every vibrant plum bag contains 11 bags (5 faded blue and 6 dotted black), and so on.\n",
    "\n",
    "You have a shiny gold bag. If you wanted to carry it in at least one other bag, how many different bag colors would be valid for the outermost bag? (In other words: how many colors can, eventually, contain at least one shiny gold bag?)\n",
    "\n",
    "In the above rules, the following options would be available to you:\n",
    "\n",
    "A bright white bag, which can hold your shiny gold bag directly.\n",
    "A muted yellow bag, which can hold your shiny gold bag directly, plus some other bags.\n",
    "A dark orange bag, which can hold bright white and muted yellow bags, either of which could then hold your shiny gold bag.\n",
    "A light red bag, which can hold bright white and muted yellow bags, either of which could then hold your shiny gold bag.\n",
    "So, in this example, the number of bag colors that can eventually contain at least one shiny gold bag is 4.\n",
    "\n",
    "How many bag colors can eventually contain at least one shiny gold bag? (The list of rules is quite long; make sure you get all of it.)\n",
    "\n",
    "Your puzzle answer was 205.\n",
    "\n",
    "The first half of this puzzle is complete! It provides one gold star: *\n",
    "\n",
    "--- Part Two ---\n",
    "\n",
    "It's getting pretty expensive to fly these days - not because of ticket prices, but because of the ridiculous number of bags you need to buy!\n",
    "\n",
    "Consider again your shiny gold bag and the rules from the above example:\n",
    "\n",
    "faded blue bags contain 0 other bags.\n",
    "dotted black bags contain 0 other bags.\n",
    "vibrant plum bags contain 11 other bags: 5 faded blue bags and 6 dotted black bags.\n",
    "dark olive bags contain 7 other bags: 3 faded blue bags and 4 dotted black bags.\n",
    "So, a single shiny gold bag must contain 1 dark olive bag (and the 7 bags within it) plus 2 vibrant plum bags (and the 11 bags within each of those): 1 + 1*7 + 2 + 2*11 = 32 bags!\n",
    "\n",
    "Of course, the actual rules have a small chance of going several levels deeper than this example; be sure to count all of the bags, even if the nesting becomes topologically impractical!\n",
    "\n",
    "Here's another example:\n",
    "\n",
    "shiny gold bags contain 2 dark red bags.\n",
    "dark red bags contain 2 dark orange bags.\n",
    "dark orange bags contain 2 dark yellow bags.\n",
    "dark yellow bags contain 2 dark green bags.\n",
    "dark green bags contain 2 dark blue bags.\n",
    "dark blue bags contain 2 dark violet bags.\n",
    "dark violet bags contain no other bags.\n",
    "In this example, a single shiny gold bag must contain 126 other bags.\n",
    "\n",
    "How many individual bags are required inside your single shiny gold bag?"
   ]
  },
  {
   "cell_type": "code",
   "execution_count": 1,
   "metadata": {},
   "outputs": [],
   "source": [
    "import numpy as np"
   ]
  },
  {
   "cell_type": "markdown",
   "metadata": {},
   "source": [
    "### First import the data"
   ]
  },
  {
   "cell_type": "code",
   "execution_count": 2,
   "metadata": {},
   "outputs": [],
   "source": [
    "# Import the data\n",
    "fileName = 'puzzleInput.txt'\n",
    "\n",
    "# Import the dict in a generic way, top level groups, \n",
    "# lower level passanger answers\n",
    "db = {} # make dict for groups\n",
    "checkDup = []\n",
    "with open(fileName) as f:\n",
    "    for line in f:\n",
    "        key, contents = line.split(' bags contain ')\n",
    "        db[key] = {}\n",
    "        listContents = contents[:-2].split(', ') # Strip /n and split into items\n",
    "        checkDup.append(key)\n",
    "        if listContents[0] == 'no other bags':\n",
    "            db[key] = {}\n",
    "        else:\n",
    "            for xx in listContents:\n",
    "                xx = xx.split(' bag')[0]\n",
    "                bagID  = xx[2:]\n",
    "                bagN  = int(xx[:1])\n",
    "                db[key][bagID] = bagN\n",
    "              \n",
    "assert len(list(set(checkDup))) == len(checkDup), 'check Dup contains duplicate entries'\n"
   ]
  },
  {
   "cell_type": "code",
   "execution_count": 15,
   "metadata": {},
   "outputs": [
    {
     "name": "stdout",
     "output_type": "stream",
     "text": [
      "1\n",
      "15\n",
      "66\n",
      "163\n",
      "202\n",
      "205\n",
      "206\n",
      "Total number of bags in which our Shiny Gold bag can be nested inside = 205\n",
      "(Note: this excludes the gold bag itself)\n"
     ]
    }
   ],
   "source": [
    "setAll = set(['shiny gold'])  # Seed the set with our desired bag\n",
    "setAllPrevLength = 0  # populate the hold value\n",
    "\n",
    "while (len(setAll)!=setAllPrevLength):\n",
    "    # While there is a change of set number in previoius loop keep going until\n",
    "    # no more bags are found, then exit\n",
    "    setAllPrevLength = len(setAll) # Grab length of previous set of bags\n",
    "    # Loop over items contained in bags looking for bags already on the set list\n",
    "    for key, subdb in db.items():\n",
    "        if any([subkey in setAll for subkey in subdb.keys()]):\n",
    "            setAll.add(key)  # Add if contents can be used to store our gold bag\n",
    "    \n",
    "    print(setAllPrevLength)\n",
    "    \n",
    "print('Total number of bags in which our Shiny Gold bag can be nested '\n",
    "      'inside = {}'.format(len(setAll)-1))\n",
    "print('(Note: this excludes the gold bag itself)')"
   ]
  },
  {
   "cell_type": "markdown",
   "metadata": {},
   "source": [
    "## Part 2: How many bags must go inside the Shiny Gold Bag"
   ]
  },
  {
   "cell_type": "markdown",
   "metadata": {},
   "source": [
    "Construct this as a recursive function that counts from the bottom of the chain of bags upwards.  Important to remember that the bag containing bags also counts to the total.  The gold bag is not counted in the total tally."
   ]
  },
  {
   "cell_type": "code",
   "execution_count": 4,
   "metadata": {},
   "outputs": [],
   "source": [
    "db['none'] = {} # add a dummy end point to terminate to at the end of each\n",
    "                # recursive call chain of the function\n",
    "def treeCount(skey, nn):\n",
    "    if not db[skey]:  # Required to add db['none'] = {} to bag database\n",
    "        return skey, 0 # return that bag has no contents\n",
    "    else:\n",
    "        count = 0\n",
    "        for k, v in db[skey].items():\n",
    "            keyDump, nr = treeCount(k, v)\n",
    "            count = count + nr*v + v\n",
    "    return 'none', count"
   ]
  },
  {
   "cell_type": "code",
   "execution_count": 11,
   "metadata": {},
   "outputs": [
    {
     "name": "stdout",
     "output_type": "stream",
     "text": [
      "Total number of individual bags required inside a single shiny gold bag = 80902\n"
     ]
    }
   ],
   "source": [
    "(s, numBags) = treeCount('shiny gold', 1)\n",
    "print('Total number of individual bags required inside a single '\n",
    "      'shiny gold bag = {}'.format(numBags))"
   ]
  },
  {
   "cell_type": "code",
   "execution_count": null,
   "metadata": {},
   "outputs": [],
   "source": []
  }
 ],
 "metadata": {
  "kernelspec": {
   "display_name": "Python 3",
   "language": "python",
   "name": "python3"
  },
  "language_info": {
   "codemirror_mode": {
    "name": "ipython",
    "version": 3
   },
   "file_extension": ".py",
   "mimetype": "text/x-python",
   "name": "python",
   "nbconvert_exporter": "python",
   "pygments_lexer": "ipython3",
   "version": "3.7.9"
  }
 },
 "nbformat": 4,
 "nbformat_minor": 4
}
