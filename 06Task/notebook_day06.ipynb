{
 "cells": [
  {
   "cell_type": "markdown",
   "metadata": {},
   "source": [
    "# adventofcode\n",
    "\n",
    "## Day 06\n",
    "\n",
    "\n",
    "--------\n",
    "| Author | Andrew Wade |\n",
    "| :---- | ------|\n",
    "| Date | 17 Oct 2021 | \n",
    "| Contact | awade (at) andrew.wade@anu.edu.au|\n",
    "| Ref | [Day 06](https://adventofcode.com/2020/day/6) |"
   ]
  },
  {
   "cell_type": "markdown",
   "metadata": {},
   "source": [
    "--- Day 6: Custom Customs ---\n",
    "\n",
    "As your flight approaches the regional airport where you'll switch to a much larger plane, customs declaration forms are distributed to the passengers.\n",
    "\n",
    "The form asks a series of 26 yes-or-no questions marked a through z. All you need to do is identify the questions for which anyone in your group answers \"yes\". Since your group is just you, this doesn't take very long.\n",
    "\n",
    "However, the person sitting next to you seems to be experiencing a language barrier and asks if you can help. For each of the people in their group, you write down the questions for which they answer \"yes\", one per line. For example:\n",
    "\n",
    "abcx\n",
    "abcy\n",
    "abcz\n",
    "In this group, there are 6 questions to which anyone answered \"yes\": a, b, c, x, y, and z. (Duplicate answers to the same question don't count extra; each question counts at most once.)\n",
    "\n",
    "Another group asks for your help, then another, and eventually you've collected answers from every group on the plane (your puzzle input). Each group's answers are separated by a blank line, and within each group, each person's answers are on a single line. For example:\n",
    "\n",
    "abc\n",
    "\n",
    "a\n",
    "b\n",
    "c\n",
    "\n",
    "ab\n",
    "ac\n",
    "\n",
    "a\n",
    "a\n",
    "a\n",
    "a\n",
    "\n",
    "b\n",
    "This list represents answers from five groups:\n",
    "\n",
    "The first group contains one person who answered \"yes\" to 3 questions: a, b, and c.\n",
    "The second group contains three people; combined, they answered \"yes\" to 3 questions: a, b, and c.\n",
    "The third group contains two people; combined, they answered \"yes\" to 3 questions: a, b, and c.\n",
    "The fourth group contains four people; combined, they answered \"yes\" to only 1 question, a.\n",
    "The last group contains one person who answered \"yes\" to only 1 question, b.\n",
    "In this example, the sum of these counts is 3 + 3 + 3 + 1 + 1 = 11.\n",
    "\n",
    "For each group, count the number of questions to which anyone answered \"yes\". What is the sum of those counts?\n",
    "\n",
    "Your puzzle answer was 6259.\n",
    "\n",
    "The first half of this puzzle is complete! It provides one gold star: *\n",
    "\n",
    "--- Part Two ---\n",
    "\n",
    "As you finish the last group's customs declaration, you notice that you misread one word in the instructions:\n",
    "\n",
    "You don't need to identify the questions to which anyone answered \"yes\"; you need to identify the questions to which everyone answered \"yes\"!\n",
    "\n",
    "Using the same example as above:\n",
    "\n",
    "abc\n",
    "\n",
    "a\n",
    "b\n",
    "c\n",
    "\n",
    "ab\n",
    "ac\n",
    "\n",
    "a\n",
    "a\n",
    "a\n",
    "a\n",
    "\n",
    "b\n",
    "This list represents answers from five groups:\n",
    "\n",
    "In the first group, everyone (all 1 person) answered \"yes\" to 3 questions: a, b, and c.\n",
    "In the second group, there is no question to which everyone answered \"yes\".\n",
    "In the third group, everyone answered yes to only 1 question, a. Since some people did not answer \"yes\" to b or c, they don't count.\n",
    "In the fourth group, everyone answered yes to only 1 question, a.\n",
    "In the fifth group, everyone (all 1 person) answered \"yes\" to 1 question, b.\n",
    "In this example, the sum of these counts is 3 + 0 + 1 + 1 + 1 = 6.\n",
    "\n",
    "For each group, count the number of questions to which everyone answered \"yes\". What is the sum of those counts?"
   ]
  },
  {
   "cell_type": "code",
   "execution_count": 1,
   "metadata": {},
   "outputs": [],
   "source": [
    "import numpy as np"
   ]
  },
  {
   "cell_type": "markdown",
   "metadata": {},
   "source": [
    "### First import the data"
   ]
  },
  {
   "cell_type": "code",
   "execution_count": 2,
   "metadata": {},
   "outputs": [],
   "source": [
    "# Import the data\n",
    "fileName = 'puzzleInput.txt'\n",
    "\n",
    "# Import the dict in a generic way, top level groups, \n",
    "# lower level passanger answers\n",
    "\n",
    "ii = 0\n",
    "ansDB = {} # make dict for groups\n",
    "ansDB[ii] = {} # initiate dict in first entry for passengers in group\n",
    "with open(fileName) as f:\n",
    "    for line in f:\n",
    "        if not line.split():\n",
    "            # when new empty line initialises the next group entry\n",
    "            ii = ii + 1  # Incriment counter\n",
    "            ansDB[ii] = {}  # Make new dict entry\n",
    "        else:\n",
    "            ansDB[ii][len(ansDB[ii])] = line.split()\n"
   ]
  },
  {
   "cell_type": "markdown",
   "metadata": {},
   "source": [
    "## Part 1: Total number of answers across all groups\n",
    "Now aggregate each groups answers identifying any entry answering yes"
   ]
  },
  {
   "cell_type": "code",
   "execution_count": 3,
   "metadata": {},
   "outputs": [],
   "source": [
    "groupwiseAnswers = []\n",
    "for key, group in ansDB.items():\n",
    "    buff = [list(ia[0]) for ia in group.values()]\n",
    "    buff = [item for sublist in buff for item in sublist] # flatten\n",
    "    buff = list(set(buff)) # deduplicate to list only unique entries\n",
    "    groupwiseAnswers.append(buff) "
   ]
  },
  {
   "cell_type": "code",
   "execution_count": 4,
   "metadata": {},
   "outputs": [
    {
     "name": "stdout",
     "output_type": "stream",
     "text": [
      "Total number of counts of unique answers over all groups = 6259.\n"
     ]
    }
   ],
   "source": [
    "# Count number of answers in each group\n",
    "numUniqueAns = []\n",
    "for unqAns in groupwiseAnswers:\n",
    "    numUniqueAns.append(len(unqAns))\n",
    "    \n",
    "print('Total number of counts of unique answers over all groups = {}.'.format(sum(numUniqueAns)))"
   ]
  },
  {
   "cell_type": "markdown",
   "metadata": {},
   "source": [
    "## Part 2:  Total number of summed answers in common within each group"
   ]
  },
  {
   "cell_type": "markdown",
   "metadata": {},
   "source": [
    "As before, first I assemble the set associated with each group.  These are a list of all the unique entries of the group"
   ]
  },
  {
   "cell_type": "code",
   "execution_count": 5,
   "metadata": {},
   "outputs": [],
   "source": [
    "groupwiseAnswers_OR = []\n",
    "groupwiseAnswers_AND = []\n",
    "for key, group in ansDB.items():\n",
    "    groupSet = [list(ia[0]) for ia in group.values()]  # Extract individual ans\n",
    "    groupSet = [item for sublist in groupSet for item in sublist] # flatten\n",
    "    groupSet = list(set(groupSet)) # deduplicate to list only unique entries\n",
    "    groupwiseAnswers_OR.append(groupSet) \n",
    "    \n",
    "    CommonEntries = []  # Entries common accross all group members\n",
    "    for gs in groupSet:\n",
    "        # group set entry in all individual entries add to list\n",
    "        if all((gs in x[0]) for x in group.values()):\n",
    "            CommonEntries.append(gs)\n",
    "    groupwiseAnswers_AND.append(CommonEntries)"
   ]
  },
  {
   "cell_type": "code",
   "execution_count": 6,
   "metadata": {},
   "outputs": [
    {
     "name": "stdout",
     "output_type": "stream",
     "text": [
      "Total number of counts of answers common accross each group = 3178.\n"
     ]
    }
   ],
   "source": [
    "# Count number of answers common to all members in each group\n",
    "numCommonAns = []\n",
    "for comAns in groupwiseAnswers_AND:\n",
    "    numCommonAns.append(len(comAns))\n",
    "    \n",
    "print('Total number of counts of answers common accross each group = {}.'.format(sum(numCommonAns)))"
   ]
  }
 ],
 "metadata": {
  "kernelspec": {
   "display_name": "Python 3",
   "language": "python",
   "name": "python3"
  },
  "language_info": {
   "codemirror_mode": {
    "name": "ipython",
    "version": 3
   },
   "file_extension": ".py",
   "mimetype": "text/x-python",
   "name": "python",
   "nbconvert_exporter": "python",
   "pygments_lexer": "ipython3",
   "version": "3.7.9"
  }
 },
 "nbformat": 4,
 "nbformat_minor": 4
}
