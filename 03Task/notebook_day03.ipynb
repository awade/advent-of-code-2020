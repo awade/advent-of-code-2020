{
 "cells": [
  {
   "cell_type": "markdown",
   "metadata": {},
   "source": [
    "# adventofcode\n",
    "\n",
    "## Day 03\n",
    "\n",
    "\n",
    "--------\n",
    "| Author | Andrew Wade |\n",
    "| :---- | ------|\n",
    "| Date | xx Oct 2021 | \n",
    "| Contact | awade (at) andrew.wade@anu.edu.au|\n",
    "| Ref | [Day 03](https://adventofcode.com/2020/day/3) |"
   ]
  },
  {
   "cell_type": "markdown",
   "metadata": {},
   "source": [
    "--- Day 3: Toboggan Trajectory ---\n",
    "\n",
    "With the toboggan login problems resolved, you set off toward the airport. While travel by toboggan might be easy, it's certainly not safe: there's very minimal steering and the area is covered in trees. You'll need to see which angles will take you near the fewest trees.\n",
    "\n",
    "Due to the local geology, trees in this area only grow on exact integer coordinates in a grid. You make a map (your puzzle input) of the open squares (.) and trees (#) you can see. For example:\n",
    "\n",
    "..##.......\n",
    "#...#...#..\n",
    ".#....#..#.\n",
    "..#.#...#.#\n",
    ".#...##..#.\n",
    "..#.##.....\n",
    ".#.#.#....#\n",
    ".#........#\n",
    "#.##...#...\n",
    "#...##....#\n",
    ".#..#...#.#\n",
    "These aren't the only trees, though; due to something you read about once involving arboreal genetics and biome stability, the same pattern repeats to the right many times:\n",
    "\n",
    "..##.........##.........##.........##.........##.........##.......  --->\n",
    "#...#...#..#...#...#..#...#...#..#...#...#..#...#...#..#...#...#..\n",
    ".#....#..#..#....#..#..#....#..#..#....#..#..#....#..#..#....#..#.\n",
    "..#.#...#.#..#.#...#.#..#.#...#.#..#.#...#.#..#.#...#.#..#.#...#.#\n",
    ".#...##..#..#...##..#..#...##..#..#...##..#..#...##..#..#...##..#.\n",
    "..#.##.......#.##.......#.##.......#.##.......#.##.......#.##.....  --->\n",
    ".#.#.#....#.#.#.#....#.#.#.#....#.#.#.#....#.#.#.#....#.#.#.#....#\n",
    ".#........#.#........#.#........#.#........#.#........#.#........#\n",
    "#.##...#...#.##...#...#.##...#...#.##...#...#.##...#...#.##...#...\n",
    "#...##....##...##....##...##....##...##....##...##....##...##....#\n",
    ".#..#...#.#.#..#...#.#.#..#...#.#.#..#...#.#.#..#...#.#.#..#...#.#  --->\n",
    "You start on the open square (.) in the top-left corner and need to reach the bottom (below the bottom-most row on your map).\n",
    "\n",
    "The toboggan can only follow a few specific slopes (you opted for a cheaper model that prefers rational numbers); start by counting all the trees you would encounter for the slope right 3, down 1:\n",
    "\n",
    "From your starting position at the top-left, check the position that is right 3 and down 1. Then, check the position that is right 3 and down 1 from there, and so on until you go past the bottom of the map.\n",
    "\n",
    "The locations you'd check in the above example are marked here with O where there was an open square and X where there was a tree:\n",
    "\n",
    "..##.........##.........##.........##.........##.........##.......  --->\n",
    "#..O#...#..#...#...#..#...#...#..#...#...#..#...#...#..#...#...#..\n",
    ".#....X..#..#....#..#..#....#..#..#....#..#..#....#..#..#....#..#.\n",
    "..#.#...#O#..#.#...#.#..#.#...#.#..#.#...#.#..#.#...#.#..#.#...#.#\n",
    ".#...##..#..X...##..#..#...##..#..#...##..#..#...##..#..#...##..#.\n",
    "..#.##.......#.X#.......#.##.......#.##.......#.##.......#.##.....  --->\n",
    ".#.#.#....#.#.#.#.O..#.#.#.#....#.#.#.#....#.#.#.#....#.#.#.#....#\n",
    ".#........#.#........X.#........#.#........#.#........#.#........#\n",
    "#.##...#...#.##...#...#.X#...#...#.##...#...#.##...#...#.##...#...\n",
    "#...##....##...##....##...#X....##...##....##...##....##...##....#\n",
    ".#..#...#.#.#..#...#.#.#..#...X.#.#..#...#.#.#..#...#.#.#..#...#.#  --->\n",
    "In this example, traversing the map using this slope would cause you to encounter 7 trees.\n",
    "\n",
    "Starting at the top-left corner of your map and following a slope of right 3 and down 1, how many trees would you encounter?\n",
    "\n",
    "Your puzzle answer was 265.\n",
    "\n",
    "--- Part Two ---\n",
    "\n",
    "Time to check the rest of the slopes - you need to minimize the probability of a sudden arboreal stop, after all.\n",
    "\n",
    "Determine the number of trees you would encounter if, for each of the following slopes, you start at the top-left corner and traverse the map all the way to the bottom:\n",
    "\n",
    "Right 1, down 1.\n",
    "Right 3, down 1. (This is the slope you already checked.)\n",
    "Right 5, down 1.\n",
    "Right 7, down 1.\n",
    "Right 1, down 2.\n",
    "In the above example, these slopes would find 2, 7, 3, 4, and 2 tree(s) respectively; multiplied together, these produce the answer 336.\n",
    "\n",
    "What do you get if you multiply together the number of trees encountered on each of the listed slopes?"
   ]
  },
  {
   "cell_type": "code",
   "execution_count": 1,
   "metadata": {},
   "outputs": [],
   "source": [
    "#Arrays, Plotting, system\n",
    "import numpy as np"
   ]
  },
  {
   "cell_type": "markdown",
   "metadata": {},
   "source": [
    "## Example data"
   ]
  },
  {
   "cell_type": "code",
   "execution_count": 10,
   "metadata": {},
   "outputs": [],
   "source": [
    "exampleSeedArray = [\n",
    "    '..##.......',\n",
    "    '#...#...#..',\n",
    "    '.#....#..#.',\n",
    "    '..#.#...#.#',\n",
    "    '.#...##..#.',\n",
    "    '..#.##.....',\n",
    "    '.#.#.#....#',\n",
    "    '.#........#',\n",
    "    '#.##...#...',\n",
    "    '#...##....#',\n",
    "    '.#..#...#.#']\n",
    "paternRepeated = 6\n",
    "\n",
    "# Initiate array\n",
    "exampleTreeMap = np.zeros((len(exampleSeedArray),paternRepeated*len(exampleSeedArray[1])), dtype=bool)\n",
    "# Loop to make array of T/F from text with prescribed repeates\n",
    "for ii, val in enumerate(exampleSeedArray):\n",
    "    # Probably not optimal convertion to type bool array\n",
    "    buff = list(val.replace('#', '1').replace('.', '0'))\n",
    "    buff = [bool(int(numeric_string)) for numeric_string in buff]\n",
    "    exampleTreeMap[ii] = buff * int(paternRepeated)"
   ]
  },
  {
   "cell_type": "code",
   "execution_count": 11,
   "metadata": {},
   "outputs": [
    {
     "name": "stdout",
     "output_type": "stream",
     "text": [
      "Total trees on route = 7.\n"
     ]
    }
   ],
   "source": [
    "slopeDef = (1,3) # (stepsDown, stepsRight)\n",
    "(N, M) = np.shape(exampleTreeMap)\n",
    "\n",
    "ii = 0; jj = 0; step = 0;\n",
    "\n",
    "# Compute the route and presents of trees according to tree map\n",
    "routeList = {}\n",
    "while (ii<N) and (jj<M):\n",
    "    routeList[step] = {}\n",
    "    routeList[step]['ii'] = ii\n",
    "    routeList[step]['jj'] = jj\n",
    "    routeList[step]['tree'] = exampleTreeMap[ii, jj]\n",
    "    jj = jj + slopeDef[1]\n",
    "    ii = ii + slopeDef[0]\n",
    "    step = step + 1\n",
    "   \n",
    "countTrees = 0\n",
    "for val in routeList.values():\n",
    "    if val['tree']:\n",
    "        countTrees = countTrees + 1\n",
    "        \n",
    "print('Total trees on route = {}.'.format(countTrees))"
   ]
  },
  {
   "cell_type": "code",
   "execution_count": 12,
   "metadata": {},
   "outputs": [],
   "source": [
    "## Import data and compute trees on all the slopes"
   ]
  },
  {
   "cell_type": "markdown",
   "metadata": {},
   "source": [
    "Import the puzzle input"
   ]
  },
  {
   "cell_type": "code",
   "execution_count": 13,
   "metadata": {},
   "outputs": [],
   "source": [
    "fileName = 'puzzleInput.txt'\n",
    "\n",
    "# Import the data into fields\n",
    "puzzleInput = np.empty((0,1), str)\n",
    "with open(fileName) as f:\n",
    "    for line in f:\n",
    "        puzzleInput = np.vstack((puzzleInput, line.split()))"
   ]
  },
  {
   "cell_type": "code",
   "execution_count": 14,
   "metadata": {},
   "outputs": [],
   "source": [
    "TreeMap = np.zeros((len(puzzleInput),len(puzzleInput[0][0])), dtype=bool)\n",
    "# Loop to make array of T/F from text with prescribed repeates\n",
    "for ii, val in enumerate(puzzleInput):\n",
    "    # Probably not optimal convertion to type bool array\n",
    "    buff = list(val[0].replace('#', '1').replace('.', '0'))\n",
    "    TreeMap[ii] = [bool(int(numeric_string)) for numeric_string in buff]"
   ]
  },
  {
   "cell_type": "code",
   "execution_count": 15,
   "metadata": {},
   "outputs": [
    {
     "data": {
      "text/plain": [
       "(323, 31)"
      ]
     },
     "execution_count": 15,
     "metadata": {},
     "output_type": "execute_result"
    }
   ],
   "source": [
    "np.shape(TreeMap)"
   ]
  },
  {
   "cell_type": "markdown",
   "metadata": {},
   "source": [
    "## Part 1: Count the trees on a one step down two steps right path\n",
    "Make a general purose route list generator method and count trees along generated route"
   ]
  },
  {
   "cell_type": "code",
   "execution_count": 19,
   "metadata": {},
   "outputs": [],
   "source": [
    "slopeDef = (1,1) # (stepsDown, stepsRight)\n",
    "def findRouteList(TreeMap, slopeDef):\n",
    "    (N, M) = np.shape(TreeMap)\n",
    "\n",
    "    ii = 0; jj = 0; step = 0;\n",
    "\n",
    "    # Compute the route and presents of trees according to tree map\n",
    "    routeList = {}\n",
    "    while (ii<N):\n",
    "        routeList[step] = {}\n",
    "        routeList[step]['ii'] = ii\n",
    "        routeList[step]['jj'] = jj\n",
    "        routeList[step]['tree'] = TreeMap[ii, jj]\n",
    "        jj = jj + slopeDef[1]\n",
    "        ii = ii + slopeDef[0]\n",
    "        jj = jj%M  # Modulo wrap around to fit the pattern in the LR direction\n",
    "        step = step + 1\n",
    "    \n",
    "    return routeList\n",
    "\n"
   ]
  },
  {
   "cell_type": "markdown",
   "metadata": {},
   "source": [
    "Now compute the number of trees for special case"
   ]
  },
  {
   "cell_type": "code",
   "execution_count": 18,
   "metadata": {},
   "outputs": [
    {
     "name": "stdout",
     "output_type": "stream",
     "text": [
      "Total trees on route = 61.\n"
     ]
    }
   ],
   "source": [
    "routeList = findRouteList(TreeMap, slopeDef)\n",
    "\n",
    "countTrees = 0\n",
    "for val in routeList.values():\n",
    "    if val['tree']:\n",
    "        countTrees = countTrees + 1\n",
    "        \n",
    "print('Total trees on route = {}.'.format(countTrees))"
   ]
  },
  {
   "cell_type": "markdown",
   "metadata": {},
   "source": [
    "## Part 2: Find trees on any arbitrary slope"
   ]
  },
  {
   "cell_type": "markdown",
   "metadata": {},
   "source": [
    "First define all the requested slopes"
   ]
  },
  {
   "cell_type": "code",
   "execution_count": 20,
   "metadata": {},
   "outputs": [],
   "source": [
    "slopeLists = np.array([[1,1],\n",
    "                       [1,3],\n",
    "                       [1,5],\n",
    "                       [1,7],\n",
    "                       [2,1]])"
   ]
  },
  {
   "cell_type": "code",
   "execution_count": 21,
   "metadata": {},
   "outputs": [
    {
     "name": "stdout",
     "output_type": "stream",
     "text": [
      "Total trees on route slope [1 1] = 61.\n",
      "Total trees on route slope [1 3] = 265.\n",
      "Total trees on route slope [1 5] = 82.\n",
      "Total trees on route slope [1 7] = 70.\n",
      "Total trees on route slope [2 1] = 34.\n",
      "Product of trees on each of the listed slopes = 3154761400.\n"
     ]
    }
   ],
   "source": [
    "treesList = []\n",
    "for ii in range(len(slopeLists)):\n",
    "    routeList = findRouteList(TreeMap, slopeLists[ii])\n",
    "    \n",
    "    countTrees = 0\n",
    "    for val in routeList.values():\n",
    "        if val['tree']:\n",
    "            countTrees = countTrees + 1\n",
    "    \n",
    "    treesList.append(countTrees)\n",
    "    print('Total trees on route slope {} = {}.'.format(slopeLists[ii], countTrees))\n",
    "\n",
    "treesListProduct = 1\n",
    "for ii in range(len(slopeLists)):\n",
    "    treesListProduct = treesListProduct*treesList[ii]\n",
    "print('Product of trees on each of the listed slopes = {}.'.format(treesListProduct))"
   ]
  },
  {
   "cell_type": "markdown",
   "metadata": {},
   "source": [
    "## Bonus: Find path out of all the options that gives the least trees"
   ]
  },
  {
   "cell_type": "code",
   "execution_count": 37,
   "metadata": {},
   "outputs": [
    {
     "name": "stdout",
     "output_type": "stream",
     "text": [
      "[0 1 2 3 4]\n"
     ]
    }
   ],
   "source": [
    "maxStepsDown = 5\n",
    "maxStepsRight = 5\n",
    "\n",
    "x = np.arange(0,5)\n",
    "y = np.arange(0,5)\n",
    "\n",
    "X, Y = np.meshgrid(x,y)\n",
    "\n",
    "print(x)\n",
    "\n",
    "# slopeLists = 1"
   ]
  },
  {
   "cell_type": "code",
   "execution_count": 49,
   "metadata": {},
   "outputs": [
    {
     "data": {
      "text/plain": [
       "array([[0, 0],\n",
       "       [1, 0],\n",
       "       [2, 0],\n",
       "       [3, 0],\n",
       "       [4, 0],\n",
       "       [0, 1],\n",
       "       [1, 1],\n",
       "       [2, 1],\n",
       "       [3, 1],\n",
       "       [4, 1],\n",
       "       [0, 2],\n",
       "       [1, 2],\n",
       "       [2, 2],\n",
       "       [3, 2],\n",
       "       [4, 2],\n",
       "       [0, 3],\n",
       "       [1, 3],\n",
       "       [2, 3],\n",
       "       [3, 3],\n",
       "       [4, 3],\n",
       "       [0, 4],\n",
       "       [1, 4],\n",
       "       [2, 4],\n",
       "       [3, 4],\n",
       "       [4, 4]])"
      ]
     },
     "execution_count": 49,
     "metadata": {},
     "output_type": "execute_result"
    }
   ],
   "source": [
    "(np.hstack((np.reshape(X,(-1,1)), np.reshape(Y,(-1,1)))))"
   ]
  },
  {
   "cell_type": "code",
   "execution_count": 32,
   "metadata": {},
   "outputs": [
    {
     "data": {
      "text/plain": [
       "array([0, 1, 2, 3, 4])"
      ]
     },
     "execution_count": 32,
     "metadata": {},
     "output_type": "execute_result"
    }
   ],
   "source": [
    "np.arange(0,5)"
   ]
  },
  {
   "cell_type": "code",
   "execution_count": 22,
   "metadata": {},
   "outputs": [
    {
     "name": "stdout",
     "output_type": "stream",
     "text": [
      "Total trees on route slope [1 1] = 61.\n",
      "Total trees on route slope [1 3] = 265.\n",
      "Total trees on route slope [1 5] = 82.\n",
      "Total trees on route slope [1 7] = 70.\n",
      "Total trees on route slope [2 1] = 34.\n",
      "Product of trees on each of the listed slopes = 3154761400.\n"
     ]
    }
   ],
   "source": [
    "treesList = []\n",
    "for ii in range(len(slopeLists)):\n",
    "    routeList = findRouteList(TreeMap, slopeLists[ii])\n",
    "    \n",
    "    countTrees = 0\n",
    "    for val in routeList.values():\n",
    "        if val['tree']:\n",
    "            countTrees = countTrees + 1\n",
    "    \n",
    "    treesList.append(countTrees)\n",
    "    print('Total trees on route slope {} = {}.'.format(slopeLists[ii], countTrees))\n",
    "\n",
    "treesListProduct = 1\n",
    "for ii in range(len(slopeLists)):\n",
    "    treesListProduct = treesListProduct*treesList[ii]\n",
    "print('Product of trees on each of the listed slopes = {}.'.format(treesListProduct))"
   ]
  },
  {
   "cell_type": "code",
   "execution_count": null,
   "metadata": {},
   "outputs": [],
   "source": []
  }
 ],
 "metadata": {
  "kernelspec": {
   "display_name": "Python 3",
   "language": "python",
   "name": "python3"
  },
  "language_info": {
   "codemirror_mode": {
    "name": "ipython",
    "version": 3
   },
   "file_extension": ".py",
   "mimetype": "text/x-python",
   "name": "python",
   "nbconvert_exporter": "python",
   "pygments_lexer": "ipython3",
   "version": "3.7.9"
  }
 },
 "nbformat": 4,
 "nbformat_minor": 4
}
