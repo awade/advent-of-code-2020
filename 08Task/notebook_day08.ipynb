{
 "cells": [
  {
   "cell_type": "markdown",
   "metadata": {},
   "source": [
    "# adventofcode\n",
    "\n",
    "## Day 08\n",
    "\n",
    "\n",
    "--------\n",
    "| Author | Andrew Wade |\n",
    "| :---- | ------|\n",
    "| Date | xx Oct 2021 | \n",
    "| Contact | awade (at) andrew.wade@anu.edu.au|\n",
    "| Ref | [Day 08](https://adventofcode.com/2020/day/8) |"
   ]
  },
  {
   "cell_type": "markdown",
   "metadata": {},
   "source": []
  },
  {
   "cell_type": "code",
   "execution_count": 1,
   "metadata": {},
   "outputs": [],
   "source": [
    "import numpy as np"
   ]
  },
  {
   "cell_type": "markdown",
   "metadata": {},
   "source": [
    "### First import the data"
   ]
  },
  {
   "cell_type": "code",
   "execution_count": 2,
   "metadata": {},
   "outputs": [],
   "source": [
    "# Import the data\n",
    "fileName = 'puzzleInput.txt'\n",
    "\n",
    "# Import the dict in a generic way, top level groups, \n",
    "# lower level passanger answers\n",
    "db = {} # make dict for groups\n",
    "checkDup = []\n",
    "with open(fileName) as f:\n",
    "    for line in f:\n",
    "        key, contents = line.split(' bags contain ')\n",
    "        db[key] = {}\n",
    "        listContents = contents[:-2].split(', ') # Strip /n and split into items\n",
    "        checkDup.append(key)\n",
    "        if listContents[0] == 'no other bags':\n",
    "            db[key] = {}\n",
    "        else:\n",
    "            for xx in listContents:\n",
    "                xx = xx.split(' bag')[0]\n",
    "                bagID  = xx[2:]\n",
    "                bagN  = int(xx[:1])\n",
    "                db[key][bagID] = bagN\n",
    "              \n",
    "assert len(list(set(checkDup))) == len(checkDup), 'check Dup contains duplicate entries'\n"
   ]
  },
  {
   "cell_type": "code",
   "execution_count": 15,
   "metadata": {},
   "outputs": [
    {
     "name": "stdout",
     "output_type": "stream",
     "text": [
      "1\n",
      "15\n",
      "66\n",
      "163\n",
      "202\n",
      "205\n",
      "206\n",
      "Total number of bags in which our Shiny Gold bag can be nested inside = 205\n",
      "(Note: this excludes the gold bag itself)\n"
     ]
    }
   ],
   "source": [
    "setAll = set(['shiny gold'])  # Seed the set with our desired bag\n",
    "setAllPrevLength = 0  # populate the hold value\n",
    "\n",
    "while (len(setAll)!=setAllPrevLength):\n",
    "    # While there is a change of set number in previoius loop keep going until\n",
    "    # no more bags are found, then exit\n",
    "    setAllPrevLength = len(setAll) # Grab length of previous set of bags\n",
    "    # Loop over items contained in bags looking for bags already on the set list\n",
    "    for key, subdb in db.items():\n",
    "        if any([subkey in setAll for subkey in subdb.keys()]):\n",
    "            setAll.add(key)  # Add if contents can be used to store our gold bag\n",
    "    \n",
    "    print(setAllPrevLength)\n",
    "    \n",
    "print('Total number of bags in which our Shiny Gold bag can be nested '\n",
    "      'inside = {}'.format(len(setAll)-1))\n",
    "print('(Note: this excludes the gold bag itself)')"
   ]
  },
  {
   "cell_type": "markdown",
   "metadata": {},
   "source": [
    "## Part 2: How many bags must go inside the Shiny Gold Bag"
   ]
  },
  {
   "cell_type": "markdown",
   "metadata": {},
   "source": [
    "Construct this as a recursive function that counts from the bottom of the chain of bags upwards.  Important to remember that the bag containing bags also counts to the total.  The gold bag is not counted in the total tally."
   ]
  },
  {
   "cell_type": "code",
   "execution_count": 4,
   "metadata": {},
   "outputs": [],
   "source": [
    "db['none'] = {} # add a dummy end point to terminate to at the end of each\n",
    "                # recursive call chain of the function\n",
    "def treeCount(skey, nn):\n",
    "    if not db[skey]:  # Required to add db['none'] = {} to bag database\n",
    "        return skey, 0 # return that bag has no contents\n",
    "    else:\n",
    "        count = 0\n",
    "        for k, v in db[skey].items():\n",
    "            keyDump, nr = treeCount(k, v)\n",
    "            count = count + nr*v + v\n",
    "    return 'none', count"
   ]
  },
  {
   "cell_type": "code",
   "execution_count": 11,
   "metadata": {},
   "outputs": [
    {
     "name": "stdout",
     "output_type": "stream",
     "text": [
      "Total number of individual bags required inside a single shiny gold bag = 80902\n"
     ]
    }
   ],
   "source": [
    "(s, numBags) = treeCount('shiny gold', 1)\n",
    "print('Total number of individual bags required inside a single '\n",
    "      'shiny gold bag = {}'.format(numBags))"
   ]
  },
  {
   "cell_type": "code",
   "execution_count": null,
   "metadata": {},
   "outputs": [],
   "source": []
  }
 ],
 "metadata": {
  "kernelspec": {
   "display_name": "Python 3",
   "language": "python",
   "name": "python3"
  },
  "language_info": {
   "codemirror_mode": {
    "name": "ipython",
    "version": 3
   },
   "file_extension": ".py",
   "mimetype": "text/x-python",
   "name": "python",
   "nbconvert_exporter": "python",
   "pygments_lexer": "ipython3",
   "version": "3.7.9"
  }
 },
 "nbformat": 4,
 "nbformat_minor": 4
}
