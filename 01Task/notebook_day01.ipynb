{
 "cells": [
  {
   "cell_type": "markdown",
   "metadata": {},
   "source": [
    "# adventofcode\n",
    "\n",
    "## Day 01\n",
    "\n",
    "\n",
    "--------\n",
    "| Author | Andrew Wade |\n",
    "| :---- | ------|\n",
    "| Date | 05 Oct 2021 | \n",
    "| Contact | awade (at) andrew.wade@anu.edu.au|\n",
    "| Ref | [Day 01](https://adventofcode.com/2020/day/1) |"
   ]
  },
  {
   "cell_type": "code",
   "execution_count": 12,
   "metadata": {},
   "outputs": [],
   "source": [
    "#Arrays, Plotting, system\n",
    "import numpy as np\n",
    "import time"
   ]
  },
  {
   "cell_type": "markdown",
   "metadata": {},
   "source": [
    "--- Day 1: Report Repair ---\n",
    "\n",
    "After saving Christmas five years in a row, you've decided to take a vacation at a nice resort on a tropical island. Surely, Christmas will go on without you.\n",
    "\n",
    "The tropical island has its own currency and is entirely cash-only. The gold coins used there have a little picture of a starfish; the locals just call them stars. None of the currency exchanges seem to have heard of them, but somehow, you'll need to find fifty of these coins by the time you arrive so you can pay the deposit on your room.\n",
    "\n",
    "To save your vacation, you need to get all fifty stars by December 25th.\n",
    "\n",
    "Collect stars by solving puzzles. Two puzzles will be made available on each day in the Advent calendar; the second puzzle is unlocked when you complete the first. Each puzzle grants one star. Good luck!\n",
    "\n",
    "Before you leave, the Elves in accounting just need you to fix your expense report (your puzzle input); apparently, something isn't quite adding up.\n",
    "\n",
    "Specifically, they need you to find the two entries that sum to 2020 and then multiply those two numbers together.\n",
    "\n",
    "For example, suppose your expense report contained the following:\n",
    "\n",
    "1721\n",
    "979\n",
    "366\n",
    "299\n",
    "675\n",
    "1456\n",
    "In this list, the two entries that sum to 2020 are 1721 and 299. Multiplying them together produces 1721 * 299 = 514579, so the correct answer is 514579.\n",
    "\n",
    "Of course, your expense report is much larger. Find the two entries that sum to 2020; what do you get if you multiply them together?\n",
    "\n",
    "To begin, get your puzzle input."
   ]
  },
  {
   "cell_type": "code",
   "execution_count": 13,
   "metadata": {},
   "outputs": [],
   "source": [
    "puzzleInput = np.array([2000,50,1984,1600,1736,1572,2010,1559,1999,1764,1808,1745,1343,1495,1860,1977,1981,1640,1966,1961,1978,1719,1930,535,1804,1535,1507,1284,1618,1991,1589,1593,1960,1953,1963,1697,1741,1823,1932,1789,1822,1972,1570,1651,1800,1514,726,1567,72,1987,1791,1842,1020,1541,1383,1505,2009,1925,13,1973,1599,1632,1905,1626,1554,1913,1890,1583,1513,1828,187,1616,1508,1524,1613,1648,32,1612,1992,1671,1955,1943,1936,1870,1629,1493,1770,1699,1990,1658,1592,1596,1888,1540,239,1677,1602,1877,1481,2004,1985,1829,1980,2008,1964,897,1843,1750,1969,1790,1989,1606,1484,1983,1986,1501,1511,1543,1869,1051,1810,1716,1633,1850,1500,1120,1849,1941,1403,1515,1915,1862,2002,1952,1893,1494,1610,1797,1908,1534,1979,2006,1971,1993,1432,1547,1488,1642,1982,1666,1856,1889,1691,1976,1962,2005,1611,1665,1816,1880,1896,1552,1809,1844,1553,1841,1785,1968,1491,1498,1995,1748,1533,1988,2001,1917,1788,1537,1659,1574,1724,1997,923,1476,1763,1817,1998,1848,1974,1830,1672,1861,1652,1551,1363,1645,1996,1965,1967,1778])"
   ]
  },
  {
   "cell_type": "code",
   "execution_count": 7,
   "metadata": {},
   "outputs": [
    {
     "name": "stdout",
     "output_type": "stream",
     "text": [
      "Hit solution @ (ii, jj) = (19,1).\n",
      "L1 = 32, L2 = 1988\n",
      "Check valid: L1 + L2 = 2020\n",
      "Entry product: L1 * L2 = 63616\n",
      "Time run to run = 431.06 us.\n"
     ]
    }
   ],
   "source": [
    "\n",
    "tic = time.time() # Start the timer\n",
    "# Sort list and again in reverse order\n",
    "L = np.sort(puzzleInput, kind='quicksort') # sort using standard quicksort method, this is good for small to moderate sized arrays\n",
    "Lr = L[::-1] # reverse the order of the sort\n",
    "\n",
    "jj = 0 + 1  # Default pointer to start plus one (can't be complement with itself)\n",
    "for ii, LrVal in enumerate(Lr):\n",
    "    if (2020 - LrVal)==L[jj]:  # Check if this is the answer and exit loop\n",
    "        break\n",
    "    while L[jj]<=(2020 - LrVal):  # check if reached the complement or exceeded\n",
    "        jj = jj + 1  # Increment the pointer\n",
    "        \n",
    "toc = time.time() - tic # Stop the timer\n",
    "\n",
    "print('Hit solution @ (ii, jj) = ({},{}).'.format(ii, jj))\n",
    "print('L1 = {}, L2 = {}'.format(L[jj], LrVal))\n",
    "print('Check valid: L1 + L2 = {}'.format(L[jj]+LrVal))\n",
    "print('Entry product: L1 * L2 = {}'.format(L[jj]*LrVal))\n",
    "print('Time run to run = {:.2f} us.'.format(toc*1e6))"
   ]
  },
  {
   "cell_type": "code",
   "execution_count": 15,
   "metadata": {},
   "outputs": [],
   "source": [
    "# Refactor as a function for nestable routines\n",
    "\n",
    "def stickMatch(L, Lr, sumOfPair=2020):\n",
    "    assert np.size(L) == len(Lr), 'L an Lr must be the same dimention'\n",
    "    jjMax = np.size(L)\n",
    "    jj = 0 + 1  # Default pointer to start plus one (can't be complement with itself)\n",
    "    for ii, LrVal in enumerate(Lr):\n",
    "        if (sumOfPair - LrVal)==L[jj]:  # Check if this is the answer and exit loop\n",
    "            break\n",
    "        while L[jj]<=(sumOfPair - LrVal):  # check if reached the complement or exceeded\n",
    "            jj = jj + 1  # Increment the pointer\n",
    "            # event that no solution return None\n",
    "            if (jj >= jjMax): \n",
    "                return None, None \n",
    "            \n",
    "    return ii, jj"
   ]
  },
  {
   "cell_type": "code",
   "execution_count": 31,
   "metadata": {},
   "outputs": [
    {
     "name": "stdout",
     "output_type": "stream",
     "text": [
      "Hit solution @ (ii, jj) = (19,1).\n",
      "L1 = 32, L2 = 1988\n",
      "Check valid: L1 + L2 = 2020\n",
      "Entry product: L1 * L2 = 63616\n",
      "Time run to run = 190.97 us.\n"
     ]
    }
   ],
   "source": [
    "tic = time.time() # Start the timer\n",
    "# Sort list and again in reverse order\n",
    "L = np.sort(puzzleInput, kind='quicksort') # sort using standard quicksort method, this is good for small to moderate sized arrays\n",
    "# Lr = L[::-1] # reverse the order of the sort\n",
    "\n",
    "ii, jj = stickMatch(L, Lr,sumOfPair=2020)\n",
    "\n",
    "toc = time.time() - tic # Stop the timer\n",
    "\n",
    "print('Hit solution @ (ii, jj) = ({},{}).'.format(ii, jj))\n",
    "print('L1 = {}, L2 = {}'.format(L[jj], Lr[ii]))\n",
    "print('Check valid: L1 + L2 = {}'.format(L[jj]+Lr[ii]))\n",
    "print('Entry product: L1 * L2 = {}'.format(L[jj]*Lr[ii]))\n",
    "print('Time run to run = {:.2f} us.'.format(toc*1e6))"
   ]
  },
  {
   "cell_type": "code",
   "execution_count": 91,
   "metadata": {},
   "outputs": [],
   "source": [
    "def stickMatch3(L, sumOf=2020):\n",
    "    if len(L)<2:\n",
    "        M = {}\n",
    "        return M\n",
    "    \n",
    "    Lr = Lr = L[::-1] # reverse the order of the sort\n",
    "    \n",
    "    M = {}\n",
    "    \n",
    "    jjMax = np.size(L)\n",
    "    jj = 0 + 1  # Default pointer to start plus one (can't be complement with itself)\n",
    "    for ii, LrVal in enumerate(Lr):\n",
    "        if (sumOf - LrVal)==L[jj]:  # Check if this is the answer and exit loop\n",
    "            M[len(M)+1] = [jjMax-ii-1, jj]\n",
    "#             print(ii, jj)\n",
    "#             print(LrVal, L[jj])\n",
    "            pass\n",
    "        while L[jj]<=(sumOf - LrVal):  # check if reached the complement or exceeded\n",
    "            jj = jj + 1  # Increment the pointer\n",
    "            # event that no solution return None\n",
    "            if (jj >= jjMax): \n",
    "                return M\n",
    "            \n",
    "    return M\n"
   ]
  },
  {
   "cell_type": "code",
   "execution_count": 139,
   "metadata": {},
   "outputs": [
    {
     "name": "stdout",
     "output_type": "stream",
     "text": [
      "Combination (3, 8, 11) from L\n",
      "Gives sum 72 + 897 + 1051 = 2020\n",
      "And resulting three element product of 67877784\n"
     ]
    }
   ],
   "source": [
    "tripletList = {}\n",
    "sumOf = 2020\n",
    "for kk, LrVal in enumerate(Lr):\n",
    "    complmentSum = sumOf-LrVal\n",
    "    M = stickMatch3(L[:-kk], complmentSum)\n",
    "    if len(M)!=0:\n",
    "        for val in M.values():\n",
    "#             pass\n",
    "#             print(val)\n",
    "            tripletList[len(tripletList)+1] = [val[0], val[1], np.size(L)-kk-1]\n",
    "\n",
    "for tripIndex in tripletList.values():\n",
    "    print('Combination ({}, {}, {}) from L'.format(tripIndex[0], tripIndex[1], tripIndex[2]))\n",
    "    print('Gives sum {} + {} + {} = {}'.format(L[tripIndex[0]], L[tripIndex[1]], L[tripIndex[2]], np.sum(L[tripIndex])))\n",
    "    print('And resulting three element product of {}'.format(L[tripIndex[0]]*L[tripIndex[1]]*L[tripIndex[2]]))"
   ]
  },
  {
   "cell_type": "code",
   "execution_count": 137,
   "metadata": {},
   "outputs": [
    {
     "ename": "ValueError",
     "evalue": "not enough values to unpack (expected 2, got 1)",
     "output_type": "error",
     "traceback": [
      "\u001b[0;31m---------------------------------------------------------------------------\u001b[0m",
      "\u001b[0;31mValueError\u001b[0m                                Traceback (most recent call last)",
      "\u001b[0;32m<ipython-input-137-ce90ff354753>\u001b[0m in \u001b[0;36m<module>\u001b[0;34m\u001b[0m\n\u001b[1;32m      4\u001b[0m \u001b[0;31m# Lr = L[::-1] # reverse the order of the sort\u001b[0m\u001b[0;34m\u001b[0m\u001b[0;34m\u001b[0m\u001b[0;34m\u001b[0m\u001b[0m\n\u001b[1;32m      5\u001b[0m \u001b[0;34m\u001b[0m\u001b[0m\n\u001b[0;32m----> 6\u001b[0;31m \u001b[0mii\u001b[0m\u001b[0;34m,\u001b[0m \u001b[0mjj\u001b[0m \u001b[0;34m=\u001b[0m \u001b[0mstickMatch3\u001b[0m\u001b[0;34m(\u001b[0m\u001b[0mL\u001b[0m\u001b[0;34m,\u001b[0m \u001b[0msumOf\u001b[0m\u001b[0;34m=\u001b[0m\u001b[0;36m2020\u001b[0m\u001b[0;34m)\u001b[0m\u001b[0;34m\u001b[0m\u001b[0;34m\u001b[0m\u001b[0m\n\u001b[0m\u001b[1;32m      7\u001b[0m \u001b[0;34m\u001b[0m\u001b[0m\n\u001b[1;32m      8\u001b[0m \u001b[0mtoc\u001b[0m \u001b[0;34m=\u001b[0m \u001b[0mtime\u001b[0m\u001b[0;34m.\u001b[0m\u001b[0mtime\u001b[0m\u001b[0;34m(\u001b[0m\u001b[0;34m)\u001b[0m \u001b[0;34m-\u001b[0m \u001b[0mtic\u001b[0m \u001b[0;31m# Stop the timer\u001b[0m\u001b[0;34m\u001b[0m\u001b[0;34m\u001b[0m\u001b[0m\n",
      "\u001b[0;31mValueError\u001b[0m: not enough values to unpack (expected 2, got 1)"
     ]
    }
   ],
   "source": [
    "tic = time.time() # Start the timer\n",
    "# Sort list and again in reverse order\n",
    "L = np.sort(puzzleInput, kind='quicksort') # sort using standard quicksort method, this is good for small to moderate sized arrays\n",
    "# Lr = L[::-1] # reverse the order of the sort\n",
    "\n",
    "ii, jj = stickMatch3(L, sumOf=2020)\n",
    "\n",
    "toc = time.time() - tic # Stop the timer\n",
    "\n",
    "print('Hit solution @ (ii, jj) = ({},{}).'.format(ii, jj))\n",
    "print('L1 = {}, L2 = {}'.format(L[jj], Lr[ii]))\n",
    "print('Check valid: L1 + L2 = {}'.format(L[jj]+Lr[ii]))\n",
    "print('Entry product: L1 * L2 = {}'.format(L[jj]*Lr[ii]))\n",
    "print('Time run to run = {:.2f} us.'.format(toc*1e6))"
   ]
  },
  {
   "cell_type": "code",
   "execution_count": 23,
   "metadata": {},
   "outputs": [],
   "source": [
    "# # First pass, not a good looping implmentation, but gives correct answer\n",
    "\n",
    "# tic = time.time() # Start the timer\n",
    "\n",
    "# # Sort list in reverse order\n",
    "# L = np.sort(puzzleInput, kind='quicksort') # sort using standard quicksort method, this is good for small to moderate sized arrays\n",
    "# Lr = L[::-1] # reverse the order of the sort\n",
    "\n",
    "\n",
    "# jj = 0 + 1  # Default pointer to start plus one (can't be complement with itself)\n",
    "# for ii, LrVal in enumerate(Lr):\n",
    "#     jjj = jj  # Rest to last, hacking\n",
    "#     while (2020 - LrVal)<=L[jjj]:  # check if reached the complement or exceeded yet\n",
    "\n",
    "#         if (2020 - LrVal)==L[jjj]:  # Check if this is the anser and exit loop\n",
    "#             break\n",
    "#         jjj = jjj + 1  # Increment the pointer\n",
    "#         if jjj>LrVal.size:\n",
    "#             break\n",
    "#     if (2020 - LrVal)==L[jj]:  # Check if this is the anser and exit loop\n",
    "#         break\n",
    "\n",
    "# toc = time.time() - tic # Stop the timer\n",
    "\n",
    "        \n",
    "# print('Hit solution @ (ii, jj) = ({},{}).'.format(ii, jj))\n",
    "# print('L1 = {}, L2 = {}'.format(L[jj], LrVal))\n",
    "# print('Check valid: L1 + L2 = {}'.format(L[jj]+LrVal))\n",
    "# print('Time run to run = {:.2f} us.'.format(toc*1e6))"
   ]
  },
  {
   "cell_type": "markdown",
   "metadata": {},
   "source": [
    "## Testing some generators code"
   ]
  },
  {
   "cell_type": "markdown",
   "metadata": {},
   "source": [
    "Simple list itterator"
   ]
  },
  {
   "cell_type": "code",
   "execution_count": 2,
   "metadata": {},
   "outputs": [
    {
     "name": "stdout",
     "output_type": "stream",
     "text": [
      "1\n",
      "2\n",
      "3\n"
     ]
    }
   ],
   "source": [
    "mylist = [1, 2, 3]\n",
    "for ii in mylist:\n",
    "    print(ii)"
   ]
  },
  {
   "cell_type": "markdown",
   "metadata": {},
   "source": [
    "Generate list interable with loop, not the square brakets that generate a list into memory"
   ]
  },
  {
   "cell_type": "code",
   "execution_count": 6,
   "metadata": {},
   "outputs": [
    {
     "name": "stdout",
     "output_type": "stream",
     "text": [
      "0\n",
      "1\n",
      "4\n"
     ]
    }
   ],
   "source": [
    "mylist = [x*x for x in range(3)]\n",
    "for ii in mylist:\n",
    "    print(ii)"
   ]
  },
  {
   "cell_type": "markdown",
   "metadata": {},
   "source": [
    "Now we make a 'Generator'.  Note the round brakets that ensures the object mygenerator is a type of object that generates sequential values on the fly (rather than putting in memory) and is single use only."
   ]
  },
  {
   "cell_type": "code",
   "execution_count": 9,
   "metadata": {},
   "outputs": [
    {
     "name": "stdout",
     "output_type": "stream",
     "text": [
      "0\n",
      "1\n",
      "4\n"
     ]
    }
   ],
   "source": [
    "mygenerator = (x*x for x in range(3))\n",
    "for ii in mygenerator:\n",
    "    print(ii)"
   ]
  },
  {
   "cell_type": "markdown",
   "metadata": {},
   "source": [
    "Try to run a second time and we find that this object is empty.  It has stepped through all avaliable values and is effectly length zero now."
   ]
  },
  {
   "cell_type": "code",
   "execution_count": 11,
   "metadata": {},
   "outputs": [],
   "source": [
    "for ii in mygenerator:\n",
    "    print(ii)"
   ]
  },
  {
   "cell_type": "code",
   "execution_count": null,
   "metadata": {},
   "outputs": [],
   "source": []
  }
 ],
 "metadata": {
  "kernelspec": {
   "display_name": "Python 3",
   "language": "python",
   "name": "python3"
  },
  "language_info": {
   "codemirror_mode": {
    "name": "ipython",
    "version": 3
   },
   "file_extension": ".py",
   "mimetype": "text/x-python",
   "name": "python",
   "nbconvert_exporter": "python",
   "pygments_lexer": "ipython3",
   "version": "3.7.9"
  }
 },
 "nbformat": 4,
 "nbformat_minor": 4
}
